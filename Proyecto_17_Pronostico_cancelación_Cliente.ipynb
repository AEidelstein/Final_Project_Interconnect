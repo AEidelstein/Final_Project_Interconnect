{
 "cells": [
  {
   "cell_type": "markdown",
   "id": "47abd6af",
   "metadata": {},
   "source": [
    "# Introducción"
   ]
  },
  {
   "cell_type": "markdown",
   "id": "c50c9dba",
   "metadata": {},
   "source": [
    "Al operador de telecomunicaciones Interconnect le gustaría poder pronosticar su tasa de cancelación de clientes. Si se descubre que un usuario o usuaria planea irse, se le ofrecerán códigos promocionales y opciones de planes especiales. El equipo de marketing de Interconnect ha recopilado algunos de los datos personales de sus clientes, incluyendo información sobre sus planes y contratos."
   ]
  },
  {
   "cell_type": "markdown",
   "id": "1b4c7f65",
   "metadata": {},
   "source": [
    "# Servicios de Interconnect"
   ]
  },
  {
   "cell_type": "markdown",
   "id": "79ea3c9b",
   "metadata": {},
   "source": [
    "Interconnect proporciona principalmente dos tipos de servicios:\n",
    "1. Comunicación por teléfono fijo. El teléfono se puede conectar a varias líneas de manera simultánea.\n",
    "2. Internet. La red se puede configurar a través de una línea telefónica (DSL, línea de abonado digital) o a través de un cable de fibra óptica.\n",
    "\n",
    "Algunos otros servicios que ofrece la empresa incluyen:\n",
    "- Seguridad en Internet: software antivirus (ProtecciónDeDispositivo) y un bloqueador de sitios web maliciosos (SeguridadEnLínea).\n",
    "- Una línea de soporte técnico (SoporteTécnico).\n",
    "- Almacenamiento de archivos en la nube y backup de datos (BackupOnline).\n",
    "- Streaming de TV (StreamingTV) y directorio de películas (StreamingPelículas).\n",
    "\n",
    "La clientela puede elegir entre un pago mensual o firmar un contrato de 1 o 2 años. Puede utilizar varios métodos de pago y recibir una factura electrónica después de una transacción."
   ]
  },
  {
   "cell_type": "markdown",
   "id": "edd67251",
   "metadata": {},
   "source": [
    "# Objetivos "
   ]
  },
  {
   "cell_type": "markdown",
   "id": "d8f1a050",
   "metadata": {},
   "source": [
    "Los objetivos principales son:\n",
    "1. Realizar una Exploración de Datos, analizando los diferentes Datasets.\n",
    "2. Crear modelos de Machine Learning que permitirán predecir la probabilidad de cancelación de clientes.\n",
    "3. Evaluar los modelos creados con la métrica principal AUC-ROC.\n",
    "4. Preparar informe respectivo a los modelos y sus resultados."
   ]
  },
  {
   "cell_type": "markdown",
   "id": "4c4089a9",
   "metadata": {},
   "source": [
    "# Descripción de datos"
   ]
  },
  {
   "cell_type": "markdown",
   "id": "f8ca8b88",
   "metadata": {},
   "source": [
    "Los datos consisten en archivos obtenidos de diferentes fuentes:\n",
    "\n",
    "- `contract.csv` - información del contracto;\n",
    "- `personal.csv` - datos personales del cliente;\n",
    "- `internet.csv` - información sobre los servicios de Internet;\n",
    "- `phone.csv`    - información sobre los servicios telefónicos.\n",
    "\n",
    "En cada archivo, la columna `costumerID`(ID de cliente) contiene un código único asignado a cada cliente."
   ]
  },
  {
   "cell_type": "markdown",
   "id": "24fb8ee5",
   "metadata": {},
   "source": [
    "# Plan de trabajo"
   ]
  },
  {
   "cell_type": "markdown",
   "id": "e58bc520",
   "metadata": {},
   "source": [
    "Para poder cumplir con lo requerido para este proyecto, iniciaremos con las Librerías. Después con los Datos, los cuales abriremos y le echaremos un primer vistazo. Una vez visto y analizado si existen datos equivocados/faltantes, pasaremos a hacer la corrección respectiva. Analizaremos con gráficos algunas columnas que podrían tener algo en común por sobre la gente que ha cancelado sus planes con la compañía Interconnect. Una vez hechos los gráficos y analizados, hacemos una pequeña conclusión, respondiendo algunas preguntas. Además podríamos sacar una hipótesis.\n",
    "\n",
    "Posteriormente, avanzaremos con nuestros 6 modelos de Machine Learning. Los cuales serían:\n",
    "\n",
    "- Regresión Logística\n",
    "- DecisionTreeClassifier\n",
    "- RandomForestClassifier\n",
    "- CatBoost Classifier\n",
    "- LGBM Classifier\n",
    "- KNeighbors Classifier\n",
    "\n",
    "Y veremos cuál de estos modelos nos arroja el mejor resultado y a su vez, el \"Most Important Feature\", para poder indicar en dónde debe atacar la compañía Interconnect, para poder quizás retener a más clientes.\n"
   ]
  },
  {
   "cell_type": "markdown",
   "id": "46d6dd08",
   "metadata": {},
   "source": [
    "# Librerías y Datos"
   ]
  },
  {
   "cell_type": "markdown",
   "id": "d78272ea",
   "metadata": {},
   "source": [
    "## Librerías"
   ]
  },
  {
   "cell_type": "code",
   "execution_count": 1,
   "id": "b87d19e4",
   "metadata": {},
   "outputs": [],
   "source": [
    "import pandas as pd\n",
    "import numpy as np\n",
    "import matplotlib.pyplot as plt\n",
    "import math\n",
    "import seaborn as sn\n",
    "\n",
    "# Lo necesario para nuestro modelo de ML\n",
    "from sklearn.model_selection import train_test_split\n",
    "from sklearn.preprocessing import StandardScaler, OneHotEncoder\n",
    "from sklearn.compose import ColumnTransformer\n",
    "from sklearn.pipeline import Pipeline\n",
    "from sklearn.metrics import roc_auc_score\n",
    "from sklearn.model_selection import GridSearchCV\n",
    "from sklearn.linear_model import LogisticRegression\n",
    "from sklearn.tree import DecisionTreeClassifier\n",
    "from sklearn.ensemble import RandomForestClassifier\n",
    "from catboost import CatBoostClassifier\n",
    "from lightgbm import LGBMClassifier\n",
    "from sklearn.neighbors import KNeighborsClassifier"
   ]
  },
  {
   "cell_type": "markdown",
   "id": "e9d4781c",
   "metadata": {},
   "source": [
    "## Datos "
   ]
  },
  {
   "cell_type": "code",
   "execution_count": 2,
   "id": "969a9258",
   "metadata": {},
   "outputs": [],
   "source": [
    "try:\n",
    "    data_contract = pd.read_csv('contract.csv')\n",
    "except:\n",
    "    data_contract = pd.read_csv('/datasets/final_provider/contract.csv')\n",
    "try:\n",
    "    data_personal = pd.read_csv('personal.csv')\n",
    "except:\n",
    "    data_personal = pd.read_csv('/datasets/final_provider/personal.csv')\n",
    "try:\n",
    "    data_internet = pd.read_csv('internet.csv')\n",
    "except:\n",
    "    data_internet = pd.read_csv('/datasets/final_provider/internet.csv')\n",
    "try:\n",
    "    data_phone = pd.read_csv('phone.csv')\n",
    "except:\n",
    "    data_phone = pd.read_csv('/datasets/final_provider/phone.csv')"
   ]
  },
  {
   "cell_type": "markdown",
   "id": "f00736e2",
   "metadata": {},
   "source": [
    "# Exploración de Datos"
   ]
  },
  {
   "cell_type": "markdown",
   "id": "320eab9e",
   "metadata": {},
   "source": [
    "### Dataset de Contrato"
   ]
  },
  {
   "cell_type": "code",
   "execution_count": 3,
   "id": "7e6baa31",
   "metadata": {
    "scrolled": true
   },
   "outputs": [
    {
     "data": {
      "text/html": [
       "<div>\n",
       "<style scoped>\n",
       "    .dataframe tbody tr th:only-of-type {\n",
       "        vertical-align: middle;\n",
       "    }\n",
       "\n",
       "    .dataframe tbody tr th {\n",
       "        vertical-align: top;\n",
       "    }\n",
       "\n",
       "    .dataframe thead th {\n",
       "        text-align: right;\n",
       "    }\n",
       "</style>\n",
       "<table border=\"1\" class=\"dataframe\">\n",
       "  <thead>\n",
       "    <tr style=\"text-align: right;\">\n",
       "      <th></th>\n",
       "      <th>customerID</th>\n",
       "      <th>BeginDate</th>\n",
       "      <th>EndDate</th>\n",
       "      <th>Type</th>\n",
       "      <th>PaperlessBilling</th>\n",
       "      <th>PaymentMethod</th>\n",
       "      <th>MonthlyCharges</th>\n",
       "      <th>TotalCharges</th>\n",
       "    </tr>\n",
       "  </thead>\n",
       "  <tbody>\n",
       "    <tr>\n",
       "      <th>0</th>\n",
       "      <td>7590-VHVEG</td>\n",
       "      <td>2020-01-01</td>\n",
       "      <td>No</td>\n",
       "      <td>Month-to-month</td>\n",
       "      <td>Yes</td>\n",
       "      <td>Electronic check</td>\n",
       "      <td>29.85</td>\n",
       "      <td>29.85</td>\n",
       "    </tr>\n",
       "    <tr>\n",
       "      <th>1</th>\n",
       "      <td>5575-GNVDE</td>\n",
       "      <td>2017-04-01</td>\n",
       "      <td>No</td>\n",
       "      <td>One year</td>\n",
       "      <td>No</td>\n",
       "      <td>Mailed check</td>\n",
       "      <td>56.95</td>\n",
       "      <td>1889.5</td>\n",
       "    </tr>\n",
       "    <tr>\n",
       "      <th>2</th>\n",
       "      <td>3668-QPYBK</td>\n",
       "      <td>2019-10-01</td>\n",
       "      <td>2019-12-01 00:00:00</td>\n",
       "      <td>Month-to-month</td>\n",
       "      <td>Yes</td>\n",
       "      <td>Mailed check</td>\n",
       "      <td>53.85</td>\n",
       "      <td>108.15</td>\n",
       "    </tr>\n",
       "    <tr>\n",
       "      <th>3</th>\n",
       "      <td>7795-CFOCW</td>\n",
       "      <td>2016-05-01</td>\n",
       "      <td>No</td>\n",
       "      <td>One year</td>\n",
       "      <td>No</td>\n",
       "      <td>Bank transfer (automatic)</td>\n",
       "      <td>42.30</td>\n",
       "      <td>1840.75</td>\n",
       "    </tr>\n",
       "    <tr>\n",
       "      <th>4</th>\n",
       "      <td>9237-HQITU</td>\n",
       "      <td>2019-09-01</td>\n",
       "      <td>2019-11-01 00:00:00</td>\n",
       "      <td>Month-to-month</td>\n",
       "      <td>Yes</td>\n",
       "      <td>Electronic check</td>\n",
       "      <td>70.70</td>\n",
       "      <td>151.65</td>\n",
       "    </tr>\n",
       "  </tbody>\n",
       "</table>\n",
       "</div>"
      ],
      "text/plain": [
       "   customerID   BeginDate              EndDate            Type  \\\n",
       "0  7590-VHVEG  2020-01-01                   No  Month-to-month   \n",
       "1  5575-GNVDE  2017-04-01                   No        One year   \n",
       "2  3668-QPYBK  2019-10-01  2019-12-01 00:00:00  Month-to-month   \n",
       "3  7795-CFOCW  2016-05-01                   No        One year   \n",
       "4  9237-HQITU  2019-09-01  2019-11-01 00:00:00  Month-to-month   \n",
       "\n",
       "  PaperlessBilling              PaymentMethod  MonthlyCharges TotalCharges  \n",
       "0              Yes           Electronic check           29.85        29.85  \n",
       "1               No               Mailed check           56.95       1889.5  \n",
       "2              Yes               Mailed check           53.85       108.15  \n",
       "3               No  Bank transfer (automatic)           42.30      1840.75  \n",
       "4              Yes           Electronic check           70.70       151.65  "
      ]
     },
     "execution_count": 3,
     "metadata": {},
     "output_type": "execute_result"
    }
   ],
   "source": [
    "data_contract.head()"
   ]
  },
  {
   "cell_type": "code",
   "execution_count": 4,
   "id": "ab86e202",
   "metadata": {},
   "outputs": [
    {
     "name": "stdout",
     "output_type": "stream",
     "text": [
      "<class 'pandas.core.frame.DataFrame'>\n",
      "RangeIndex: 7043 entries, 0 to 7042\n",
      "Data columns (total 8 columns):\n",
      " #   Column            Non-Null Count  Dtype  \n",
      "---  ------            --------------  -----  \n",
      " 0   customerID        7043 non-null   object \n",
      " 1   BeginDate         7043 non-null   object \n",
      " 2   EndDate           7043 non-null   object \n",
      " 3   Type              7043 non-null   object \n",
      " 4   PaperlessBilling  7043 non-null   object \n",
      " 5   PaymentMethod     7043 non-null   object \n",
      " 6   MonthlyCharges    7043 non-null   float64\n",
      " 7   TotalCharges      7043 non-null   object \n",
      "dtypes: float64(1), object(7)\n",
      "memory usage: 440.3+ KB\n"
     ]
    }
   ],
   "source": [
    "data_contract.info()"
   ]
  },
  {
   "cell_type": "code",
   "execution_count": 5,
   "id": "cad7b554",
   "metadata": {},
   "outputs": [
    {
     "data": {
      "text/plain": [
       "customerID          0\n",
       "BeginDate           0\n",
       "EndDate             0\n",
       "Type                0\n",
       "PaperlessBilling    0\n",
       "PaymentMethod       0\n",
       "MonthlyCharges      0\n",
       "TotalCharges        0\n",
       "dtype: int64"
      ]
     },
     "execution_count": 5,
     "metadata": {},
     "output_type": "execute_result"
    }
   ],
   "source": [
    "data_contract.isna().sum()"
   ]
  },
  {
   "cell_type": "markdown",
   "id": "6f6a519a",
   "metadata": {},
   "source": [
    "No observamos datos faltantes."
   ]
  },
  {
   "cell_type": "code",
   "execution_count": 6,
   "id": "c47f1991",
   "metadata": {},
   "outputs": [
    {
     "data": {
      "text/plain": [
       "0"
      ]
     },
     "execution_count": 6,
     "metadata": {},
     "output_type": "execute_result"
    }
   ],
   "source": [
    "data_contract.duplicated().sum()"
   ]
  },
  {
   "cell_type": "markdown",
   "id": "39b1f07a",
   "metadata": {},
   "source": [
    "No tenemos datos duplicados"
   ]
  },
  {
   "cell_type": "markdown",
   "id": "91b95e9e",
   "metadata": {},
   "source": [
    "### Dataset de Personal"
   ]
  },
  {
   "cell_type": "code",
   "execution_count": 7,
   "id": "0476fbb5",
   "metadata": {},
   "outputs": [
    {
     "data": {
      "text/html": [
       "<div>\n",
       "<style scoped>\n",
       "    .dataframe tbody tr th:only-of-type {\n",
       "        vertical-align: middle;\n",
       "    }\n",
       "\n",
       "    .dataframe tbody tr th {\n",
       "        vertical-align: top;\n",
       "    }\n",
       "\n",
       "    .dataframe thead th {\n",
       "        text-align: right;\n",
       "    }\n",
       "</style>\n",
       "<table border=\"1\" class=\"dataframe\">\n",
       "  <thead>\n",
       "    <tr style=\"text-align: right;\">\n",
       "      <th></th>\n",
       "      <th>customerID</th>\n",
       "      <th>gender</th>\n",
       "      <th>SeniorCitizen</th>\n",
       "      <th>Partner</th>\n",
       "      <th>Dependents</th>\n",
       "    </tr>\n",
       "  </thead>\n",
       "  <tbody>\n",
       "    <tr>\n",
       "      <th>0</th>\n",
       "      <td>7590-VHVEG</td>\n",
       "      <td>Female</td>\n",
       "      <td>0</td>\n",
       "      <td>Yes</td>\n",
       "      <td>No</td>\n",
       "    </tr>\n",
       "    <tr>\n",
       "      <th>1</th>\n",
       "      <td>5575-GNVDE</td>\n",
       "      <td>Male</td>\n",
       "      <td>0</td>\n",
       "      <td>No</td>\n",
       "      <td>No</td>\n",
       "    </tr>\n",
       "    <tr>\n",
       "      <th>2</th>\n",
       "      <td>3668-QPYBK</td>\n",
       "      <td>Male</td>\n",
       "      <td>0</td>\n",
       "      <td>No</td>\n",
       "      <td>No</td>\n",
       "    </tr>\n",
       "    <tr>\n",
       "      <th>3</th>\n",
       "      <td>7795-CFOCW</td>\n",
       "      <td>Male</td>\n",
       "      <td>0</td>\n",
       "      <td>No</td>\n",
       "      <td>No</td>\n",
       "    </tr>\n",
       "    <tr>\n",
       "      <th>4</th>\n",
       "      <td>9237-HQITU</td>\n",
       "      <td>Female</td>\n",
       "      <td>0</td>\n",
       "      <td>No</td>\n",
       "      <td>No</td>\n",
       "    </tr>\n",
       "  </tbody>\n",
       "</table>\n",
       "</div>"
      ],
      "text/plain": [
       "   customerID  gender  SeniorCitizen Partner Dependents\n",
       "0  7590-VHVEG  Female              0     Yes         No\n",
       "1  5575-GNVDE    Male              0      No         No\n",
       "2  3668-QPYBK    Male              0      No         No\n",
       "3  7795-CFOCW    Male              0      No         No\n",
       "4  9237-HQITU  Female              0      No         No"
      ]
     },
     "execution_count": 7,
     "metadata": {},
     "output_type": "execute_result"
    }
   ],
   "source": [
    "data_personal.head()"
   ]
  },
  {
   "cell_type": "code",
   "execution_count": 8,
   "id": "e25ec567",
   "metadata": {},
   "outputs": [
    {
     "name": "stdout",
     "output_type": "stream",
     "text": [
      "<class 'pandas.core.frame.DataFrame'>\n",
      "RangeIndex: 7043 entries, 0 to 7042\n",
      "Data columns (total 5 columns):\n",
      " #   Column         Non-Null Count  Dtype \n",
      "---  ------         --------------  ----- \n",
      " 0   customerID     7043 non-null   object\n",
      " 1   gender         7043 non-null   object\n",
      " 2   SeniorCitizen  7043 non-null   int64 \n",
      " 3   Partner        7043 non-null   object\n",
      " 4   Dependents     7043 non-null   object\n",
      "dtypes: int64(1), object(4)\n",
      "memory usage: 275.2+ KB\n"
     ]
    }
   ],
   "source": [
    "data_personal.info()"
   ]
  },
  {
   "cell_type": "code",
   "execution_count": 9,
   "id": "acee38f1",
   "metadata": {},
   "outputs": [
    {
     "data": {
      "text/plain": [
       "customerID       0\n",
       "gender           0\n",
       "SeniorCitizen    0\n",
       "Partner          0\n",
       "Dependents       0\n",
       "dtype: int64"
      ]
     },
     "execution_count": 9,
     "metadata": {},
     "output_type": "execute_result"
    }
   ],
   "source": [
    "data_personal.isna().sum()"
   ]
  },
  {
   "cell_type": "markdown",
   "id": "1df239a9",
   "metadata": {},
   "source": [
    "No observamos datos faltantes."
   ]
  },
  {
   "cell_type": "code",
   "execution_count": 10,
   "id": "d5f2266b",
   "metadata": {},
   "outputs": [
    {
     "data": {
      "text/plain": [
       "0"
      ]
     },
     "execution_count": 10,
     "metadata": {},
     "output_type": "execute_result"
    }
   ],
   "source": [
    "data_personal.duplicated().sum()"
   ]
  },
  {
   "cell_type": "markdown",
   "id": "99217fab",
   "metadata": {},
   "source": [
    "No tenemos datos duplicados"
   ]
  },
  {
   "cell_type": "markdown",
   "id": "7a51475c",
   "metadata": {},
   "source": [
    "### Dataset de Internet"
   ]
  },
  {
   "cell_type": "code",
   "execution_count": 11,
   "id": "0c9ffe3d",
   "metadata": {},
   "outputs": [
    {
     "data": {
      "text/html": [
       "<div>\n",
       "<style scoped>\n",
       "    .dataframe tbody tr th:only-of-type {\n",
       "        vertical-align: middle;\n",
       "    }\n",
       "\n",
       "    .dataframe tbody tr th {\n",
       "        vertical-align: top;\n",
       "    }\n",
       "\n",
       "    .dataframe thead th {\n",
       "        text-align: right;\n",
       "    }\n",
       "</style>\n",
       "<table border=\"1\" class=\"dataframe\">\n",
       "  <thead>\n",
       "    <tr style=\"text-align: right;\">\n",
       "      <th></th>\n",
       "      <th>customerID</th>\n",
       "      <th>InternetService</th>\n",
       "      <th>OnlineSecurity</th>\n",
       "      <th>OnlineBackup</th>\n",
       "      <th>DeviceProtection</th>\n",
       "      <th>TechSupport</th>\n",
       "      <th>StreamingTV</th>\n",
       "      <th>StreamingMovies</th>\n",
       "    </tr>\n",
       "  </thead>\n",
       "  <tbody>\n",
       "    <tr>\n",
       "      <th>0</th>\n",
       "      <td>7590-VHVEG</td>\n",
       "      <td>DSL</td>\n",
       "      <td>No</td>\n",
       "      <td>Yes</td>\n",
       "      <td>No</td>\n",
       "      <td>No</td>\n",
       "      <td>No</td>\n",
       "      <td>No</td>\n",
       "    </tr>\n",
       "    <tr>\n",
       "      <th>1</th>\n",
       "      <td>5575-GNVDE</td>\n",
       "      <td>DSL</td>\n",
       "      <td>Yes</td>\n",
       "      <td>No</td>\n",
       "      <td>Yes</td>\n",
       "      <td>No</td>\n",
       "      <td>No</td>\n",
       "      <td>No</td>\n",
       "    </tr>\n",
       "    <tr>\n",
       "      <th>2</th>\n",
       "      <td>3668-QPYBK</td>\n",
       "      <td>DSL</td>\n",
       "      <td>Yes</td>\n",
       "      <td>Yes</td>\n",
       "      <td>No</td>\n",
       "      <td>No</td>\n",
       "      <td>No</td>\n",
       "      <td>No</td>\n",
       "    </tr>\n",
       "    <tr>\n",
       "      <th>3</th>\n",
       "      <td>7795-CFOCW</td>\n",
       "      <td>DSL</td>\n",
       "      <td>Yes</td>\n",
       "      <td>No</td>\n",
       "      <td>Yes</td>\n",
       "      <td>Yes</td>\n",
       "      <td>No</td>\n",
       "      <td>No</td>\n",
       "    </tr>\n",
       "    <tr>\n",
       "      <th>4</th>\n",
       "      <td>9237-HQITU</td>\n",
       "      <td>Fiber optic</td>\n",
       "      <td>No</td>\n",
       "      <td>No</td>\n",
       "      <td>No</td>\n",
       "      <td>No</td>\n",
       "      <td>No</td>\n",
       "      <td>No</td>\n",
       "    </tr>\n",
       "  </tbody>\n",
       "</table>\n",
       "</div>"
      ],
      "text/plain": [
       "   customerID InternetService OnlineSecurity OnlineBackup DeviceProtection  \\\n",
       "0  7590-VHVEG             DSL             No          Yes               No   \n",
       "1  5575-GNVDE             DSL            Yes           No              Yes   \n",
       "2  3668-QPYBK             DSL            Yes          Yes               No   \n",
       "3  7795-CFOCW             DSL            Yes           No              Yes   \n",
       "4  9237-HQITU     Fiber optic             No           No               No   \n",
       "\n",
       "  TechSupport StreamingTV StreamingMovies  \n",
       "0          No          No              No  \n",
       "1          No          No              No  \n",
       "2          No          No              No  \n",
       "3         Yes          No              No  \n",
       "4          No          No              No  "
      ]
     },
     "execution_count": 11,
     "metadata": {},
     "output_type": "execute_result"
    }
   ],
   "source": [
    "data_internet.head()"
   ]
  },
  {
   "cell_type": "code",
   "execution_count": 12,
   "id": "ea40e8e2",
   "metadata": {},
   "outputs": [
    {
     "name": "stdout",
     "output_type": "stream",
     "text": [
      "<class 'pandas.core.frame.DataFrame'>\n",
      "RangeIndex: 5517 entries, 0 to 5516\n",
      "Data columns (total 8 columns):\n",
      " #   Column            Non-Null Count  Dtype \n",
      "---  ------            --------------  ----- \n",
      " 0   customerID        5517 non-null   object\n",
      " 1   InternetService   5517 non-null   object\n",
      " 2   OnlineSecurity    5517 non-null   object\n",
      " 3   OnlineBackup      5517 non-null   object\n",
      " 4   DeviceProtection  5517 non-null   object\n",
      " 5   TechSupport       5517 non-null   object\n",
      " 6   StreamingTV       5517 non-null   object\n",
      " 7   StreamingMovies   5517 non-null   object\n",
      "dtypes: object(8)\n",
      "memory usage: 344.9+ KB\n"
     ]
    }
   ],
   "source": [
    "data_internet.info()"
   ]
  },
  {
   "cell_type": "code",
   "execution_count": 13,
   "id": "b356f249",
   "metadata": {},
   "outputs": [
    {
     "data": {
      "text/plain": [
       "customerID          0\n",
       "InternetService     0\n",
       "OnlineSecurity      0\n",
       "OnlineBackup        0\n",
       "DeviceProtection    0\n",
       "TechSupport         0\n",
       "StreamingTV         0\n",
       "StreamingMovies     0\n",
       "dtype: int64"
      ]
     },
     "execution_count": 13,
     "metadata": {},
     "output_type": "execute_result"
    }
   ],
   "source": [
    "data_internet.isna().sum()"
   ]
  },
  {
   "cell_type": "markdown",
   "id": "d955a69d",
   "metadata": {},
   "source": [
    "No se observan datos faltantes tampoco."
   ]
  },
  {
   "cell_type": "code",
   "execution_count": 14,
   "id": "96b57349",
   "metadata": {},
   "outputs": [
    {
     "data": {
      "text/plain": [
       "0"
      ]
     },
     "execution_count": 14,
     "metadata": {},
     "output_type": "execute_result"
    }
   ],
   "source": [
    "data_internet.duplicated().sum()"
   ]
  },
  {
   "cell_type": "markdown",
   "id": "93b5d6f3",
   "metadata": {},
   "source": [
    "No tenemos datos duplicados"
   ]
  },
  {
   "cell_type": "markdown",
   "id": "465e48fb",
   "metadata": {},
   "source": [
    "### Dataset de Phone"
   ]
  },
  {
   "cell_type": "code",
   "execution_count": 15,
   "id": "d1063760",
   "metadata": {},
   "outputs": [
    {
     "data": {
      "text/html": [
       "<div>\n",
       "<style scoped>\n",
       "    .dataframe tbody tr th:only-of-type {\n",
       "        vertical-align: middle;\n",
       "    }\n",
       "\n",
       "    .dataframe tbody tr th {\n",
       "        vertical-align: top;\n",
       "    }\n",
       "\n",
       "    .dataframe thead th {\n",
       "        text-align: right;\n",
       "    }\n",
       "</style>\n",
       "<table border=\"1\" class=\"dataframe\">\n",
       "  <thead>\n",
       "    <tr style=\"text-align: right;\">\n",
       "      <th></th>\n",
       "      <th>customerID</th>\n",
       "      <th>MultipleLines</th>\n",
       "    </tr>\n",
       "  </thead>\n",
       "  <tbody>\n",
       "    <tr>\n",
       "      <th>0</th>\n",
       "      <td>5575-GNVDE</td>\n",
       "      <td>No</td>\n",
       "    </tr>\n",
       "    <tr>\n",
       "      <th>1</th>\n",
       "      <td>3668-QPYBK</td>\n",
       "      <td>No</td>\n",
       "    </tr>\n",
       "    <tr>\n",
       "      <th>2</th>\n",
       "      <td>9237-HQITU</td>\n",
       "      <td>No</td>\n",
       "    </tr>\n",
       "    <tr>\n",
       "      <th>3</th>\n",
       "      <td>9305-CDSKC</td>\n",
       "      <td>Yes</td>\n",
       "    </tr>\n",
       "    <tr>\n",
       "      <th>4</th>\n",
       "      <td>1452-KIOVK</td>\n",
       "      <td>Yes</td>\n",
       "    </tr>\n",
       "  </tbody>\n",
       "</table>\n",
       "</div>"
      ],
      "text/plain": [
       "   customerID MultipleLines\n",
       "0  5575-GNVDE            No\n",
       "1  3668-QPYBK            No\n",
       "2  9237-HQITU            No\n",
       "3  9305-CDSKC           Yes\n",
       "4  1452-KIOVK           Yes"
      ]
     },
     "execution_count": 15,
     "metadata": {},
     "output_type": "execute_result"
    }
   ],
   "source": [
    "data_phone.head()"
   ]
  },
  {
   "cell_type": "code",
   "execution_count": 16,
   "id": "ff45e4fd",
   "metadata": {},
   "outputs": [
    {
     "name": "stdout",
     "output_type": "stream",
     "text": [
      "<class 'pandas.core.frame.DataFrame'>\n",
      "RangeIndex: 6361 entries, 0 to 6360\n",
      "Data columns (total 2 columns):\n",
      " #   Column         Non-Null Count  Dtype \n",
      "---  ------         --------------  ----- \n",
      " 0   customerID     6361 non-null   object\n",
      " 1   MultipleLines  6361 non-null   object\n",
      "dtypes: object(2)\n",
      "memory usage: 99.5+ KB\n"
     ]
    }
   ],
   "source": [
    "data_phone.info()"
   ]
  },
  {
   "cell_type": "code",
   "execution_count": 17,
   "id": "40de1baa",
   "metadata": {},
   "outputs": [
    {
     "data": {
      "text/plain": [
       "customerID       0\n",
       "MultipleLines    0\n",
       "dtype: int64"
      ]
     },
     "execution_count": 17,
     "metadata": {},
     "output_type": "execute_result"
    }
   ],
   "source": [
    "data_phone.isna().sum()"
   ]
  },
  {
   "cell_type": "markdown",
   "id": "398e0d88",
   "metadata": {},
   "source": [
    "No se observan datos faltantes."
   ]
  },
  {
   "cell_type": "code",
   "execution_count": 18,
   "id": "16246c09",
   "metadata": {},
   "outputs": [
    {
     "data": {
      "text/plain": [
       "0"
      ]
     },
     "execution_count": 18,
     "metadata": {},
     "output_type": "execute_result"
    }
   ],
   "source": [
    "data_phone.duplicated().sum()"
   ]
  },
  {
   "cell_type": "markdown",
   "id": "b88fb4e9",
   "metadata": {},
   "source": [
    "No tenemos datos duplicados"
   ]
  },
  {
   "cell_type": "markdown",
   "id": "4c5dfdd8",
   "metadata": {},
   "source": [
    "#### Observaciones generales de los Dataset"
   ]
  },
  {
   "cell_type": "markdown",
   "id": "5be2594b",
   "metadata": {},
   "source": [
    "Como escrito en la parte de Descripción de Datos, observamos todos los Datasets contienen la columna `costumerID`. Y no tienen datos faltantes.\n",
    "\n",
    "Para todos los datasets, tendremos que cambiar las columnas a minúsculas.\n",
    "\n",
    "- En el dataset `data_contract`, podemos hacer lo siguiente: \n",
    "    - la columna `BeginDate` cambiar a 'datetime'. \n",
    "    - las columna `PaperlessBilling`cambiar a 'int'.\n",
    "    - Las columnas `Type` y `PaymentMethod`cambiar a 'category'.\n",
    "    - la columna `TotalCharges` cambiar a 'float'.\n",
    "\n",
    "- En el dataset `data_personal`, podemos hace lo siguiente:\n",
    "    - las columnas `gender`, `Partner` y `Dependents`  cambiar a 'int'.\n",
    "    \n",
    "\n",
    "- En el dataset `data_internet`, podemos hacer lo siguiente:\n",
    "    - la columna  cambiar a 'category'.\n",
    "    - las columnas`InternetService`, `OnlineSecurity`, `OnlineBackup`, `DeviceProtection`, `TechSupport`, `StreamingTV` y `StreamingMovies` cambiar 'category'.\n",
    "\n",
    "- En el dataset `data_phone`podemos hacer lo siguiente:\n",
    "    - la columna `MultipleLines`cambiar a 'category'."
   ]
  },
  {
   "cell_type": "markdown",
   "id": "361da62d",
   "metadata": {},
   "source": [
    "### Corrección de Datos"
   ]
  },
  {
   "cell_type": "code",
   "execution_count": 19,
   "id": "17ec8a79",
   "metadata": {},
   "outputs": [
    {
     "name": "stdout",
     "output_type": "stream",
     "text": [
      "<class 'pandas.core.frame.DataFrame'>\n",
      "RangeIndex: 7043 entries, 0 to 7042\n",
      "Data columns (total 8 columns):\n",
      " #   Column            Non-Null Count  Dtype  \n",
      "---  ------            --------------  -----  \n",
      " 0   customerID        7043 non-null   object \n",
      " 1   BeginDate         7043 non-null   object \n",
      " 2   EndDate           7043 non-null   object \n",
      " 3   Type              7043 non-null   object \n",
      " 4   PaperlessBilling  7043 non-null   object \n",
      " 5   PaymentMethod     7043 non-null   object \n",
      " 6   MonthlyCharges    7043 non-null   float64\n",
      " 7   TotalCharges      7043 non-null   object \n",
      "dtypes: float64(1), object(7)\n",
      "memory usage: 440.3+ KB\n"
     ]
    }
   ],
   "source": [
    "data_contract.info()"
   ]
  },
  {
   "cell_type": "code",
   "execution_count": 20,
   "id": "64b7e592",
   "metadata": {},
   "outputs": [
    {
     "data": {
      "text/plain": [
       "Electronic check             2365\n",
       "Mailed check                 1612\n",
       "Bank transfer (automatic)    1544\n",
       "Credit card (automatic)      1522\n",
       "Name: PaymentMethod, dtype: int64"
      ]
     },
     "execution_count": 20,
     "metadata": {},
     "output_type": "execute_result"
    }
   ],
   "source": [
    "data_contract['PaymentMethod'].value_counts()"
   ]
  },
  {
   "cell_type": "code",
   "execution_count": 21,
   "id": "16e675c2",
   "metadata": {},
   "outputs": [],
   "source": [
    "# Dataset de contrato:\n",
    "data_contract['BeginDate']=pd.to_datetime(data_contract['BeginDate'], format='%Y-%m-%d')\n",
    "data_contract['PaperlessBilling'] = data_contract['PaperlessBilling'].replace({'Yes': 1, 'No': 0})\n",
    "data_contract['Type']=data_contract['Type'].astype('category')\n",
    "data_contract['PaymentMethod']=data_contract['PaymentMethod'].astype('category')\n",
    "data_contract['TotalCharges']=pd.to_numeric(data_contract['TotalCharges'], errors='coerce')\n",
    "data_contract['churn'] = (data_contract['EndDate'] != \"No\").astype(\"int\")"
   ]
  },
  {
   "cell_type": "markdown",
   "id": "8aa37b27",
   "metadata": {},
   "source": [
    "Podríamos crear una columna `days` obtenidos de la diferencia entre `EndDate` y `BeginDate`. Los datos se ingresarán en el formato presentado (Año-mes-día 00:00:00), para hacerlo más fácil de cambiarlo a datetime posteriormente."
   ]
  },
  {
   "cell_type": "code",
   "execution_count": 22,
   "id": "8bf72dfe",
   "metadata": {},
   "outputs": [],
   "source": [
    "data_contract['EndDate'] = data_contract['EndDate'].replace('No', '2020-02-01 00:00:00')\n",
    "data_contract['EndDate'] = pd.to_datetime(data_contract['EndDate'], format='%Y-%m-%d', errors = 'coerce')"
   ]
  },
  {
   "cell_type": "code",
   "execution_count": 23,
   "id": "3238f87a",
   "metadata": {},
   "outputs": [
    {
     "name": "stdout",
     "output_type": "stream",
     "text": [
      "<class 'pandas.core.frame.DataFrame'>\n",
      "RangeIndex: 7043 entries, 0 to 7042\n",
      "Data columns (total 9 columns):\n",
      " #   Column            Non-Null Count  Dtype         \n",
      "---  ------            --------------  -----         \n",
      " 0   customerID        7043 non-null   object        \n",
      " 1   BeginDate         7043 non-null   datetime64[ns]\n",
      " 2   EndDate           7043 non-null   datetime64[ns]\n",
      " 3   Type              7043 non-null   category      \n",
      " 4   PaperlessBilling  7043 non-null   int64         \n",
      " 5   PaymentMethod     7043 non-null   category      \n",
      " 6   MonthlyCharges    7043 non-null   float64       \n",
      " 7   TotalCharges      7032 non-null   float64       \n",
      " 8   churn             7043 non-null   int64         \n",
      "dtypes: category(2), datetime64[ns](2), float64(2), int64(2), object(1)\n",
      "memory usage: 399.4+ KB\n"
     ]
    }
   ],
   "source": [
    "data_contract.info()"
   ]
  },
  {
   "cell_type": "code",
   "execution_count": 24,
   "id": "595948a9",
   "metadata": {},
   "outputs": [
    {
     "data": {
      "text/plain": [
       "array([  31, 1036,   61, 1371,  245,  671,  306,  853, 1888,  396,  488,\n",
       "       1767, 1491,  761, 2102, 1584, 2163,  304,  641,   30,  365, 1492,\n",
       "        914, 1431, 2191,  518,   62,  822,  153, 1401, 1033,  335, 2132,\n",
       "       1918, 1310,  456, 1826,  549, 2010, 1432,  275,   92,  945, 1523,\n",
       "       1949, 1706,  337,  214, 1279,  276, 1067, 1461,  883, 1979, 1157,\n",
       "       2071,  975, 1675, 1126, 1095,  303, 1248,  184,   91,  215,  123,\n",
       "       1006, 2041,  702, 1737,  242, 1857,  457,  427,  610, 1614,  395,\n",
       "       1218, 1798,  730, 1340,  579,  122, 1645, 1553,  580, 1795,  487,\n",
       "       1583,  548,  974, 1156, 1309, 1917,  640,  760,  334, 2101,  669,\n",
       "       1676, 1856,  792,  852,    0, 1217,  699, 1186, 1065, 1703,  273,\n",
       "        607, 1003, 1369,  609, 1005, 1399, 1887, 1187, 1765, 2129,  638,\n",
       "       1522,  183, 1064, 1338, 2160,  972,  244,  791,  426, 1125, 1796,\n",
       "       2130, 1034, 1430,  913, 2040, 1278, 1400, 2009,  944, 1734, 2099,\n",
       "       1764,  700,  668, 1736, 1370, 1644, 2070,  821, 1705, 1948, 2068,\n",
       "       2161, 1552])"
      ]
     },
     "execution_count": 24,
     "metadata": {},
     "output_type": "execute_result"
    }
   ],
   "source": [
    "data_contract['days']=(data_contract['EndDate'] - data_contract['BeginDate']).dt.days\n",
    "data_contract['days'].unique()"
   ]
  },
  {
   "cell_type": "markdown",
   "id": "e8bdfd4f",
   "metadata": {},
   "source": [
    "Podemos eliminar las dos columnas con fechas."
   ]
  },
  {
   "cell_type": "code",
   "execution_count": 25,
   "id": "8626d8a9",
   "metadata": {},
   "outputs": [
    {
     "name": "stdout",
     "output_type": "stream",
     "text": [
      "<class 'pandas.core.frame.DataFrame'>\n",
      "RangeIndex: 7043 entries, 0 to 7042\n",
      "Data columns (total 8 columns):\n",
      " #   Column            Non-Null Count  Dtype   \n",
      "---  ------            --------------  -----   \n",
      " 0   customerID        7043 non-null   object  \n",
      " 1   Type              7043 non-null   category\n",
      " 2   PaperlessBilling  7043 non-null   int64   \n",
      " 3   PaymentMethod     7043 non-null   category\n",
      " 4   MonthlyCharges    7043 non-null   float64 \n",
      " 5   TotalCharges      7032 non-null   float64 \n",
      " 6   churn             7043 non-null   int64   \n",
      " 7   days              7043 non-null   float64 \n",
      "dtypes: category(2), float64(3), int64(2), object(1)\n",
      "memory usage: 344.3+ KB\n"
     ]
    }
   ],
   "source": [
    "data_contract_final = data_contract.drop(['BeginDate', 'EndDate'], axis=1)\n",
    "data_contract_final['days'] = data_contract_final['days'].astype('float64') \n",
    "data_contract_final.info()"
   ]
  },
  {
   "cell_type": "markdown",
   "id": "00f193de",
   "metadata": {},
   "source": [
    "Con el cambio hecho al tipo float en `TotalCharges`, generamos datos faltantes. Veamos esta columna."
   ]
  },
  {
   "cell_type": "code",
   "execution_count": 26,
   "id": "0a2163f7",
   "metadata": {},
   "outputs": [
    {
     "data": {
      "text/html": [
       "<div>\n",
       "<style scoped>\n",
       "    .dataframe tbody tr th:only-of-type {\n",
       "        vertical-align: middle;\n",
       "    }\n",
       "\n",
       "    .dataframe tbody tr th {\n",
       "        vertical-align: top;\n",
       "    }\n",
       "\n",
       "    .dataframe thead th {\n",
       "        text-align: right;\n",
       "    }\n",
       "</style>\n",
       "<table border=\"1\" class=\"dataframe\">\n",
       "  <thead>\n",
       "    <tr style=\"text-align: right;\">\n",
       "      <th></th>\n",
       "      <th>customerID</th>\n",
       "      <th>Type</th>\n",
       "      <th>PaperlessBilling</th>\n",
       "      <th>PaymentMethod</th>\n",
       "      <th>MonthlyCharges</th>\n",
       "      <th>TotalCharges</th>\n",
       "      <th>churn</th>\n",
       "      <th>days</th>\n",
       "    </tr>\n",
       "  </thead>\n",
       "  <tbody>\n",
       "    <tr>\n",
       "      <th>488</th>\n",
       "      <td>4472-LVYGI</td>\n",
       "      <td>Two year</td>\n",
       "      <td>1</td>\n",
       "      <td>Bank transfer (automatic)</td>\n",
       "      <td>52.55</td>\n",
       "      <td>NaN</td>\n",
       "      <td>0</td>\n",
       "      <td>0.0</td>\n",
       "    </tr>\n",
       "    <tr>\n",
       "      <th>753</th>\n",
       "      <td>3115-CZMZD</td>\n",
       "      <td>Two year</td>\n",
       "      <td>0</td>\n",
       "      <td>Mailed check</td>\n",
       "      <td>20.25</td>\n",
       "      <td>NaN</td>\n",
       "      <td>0</td>\n",
       "      <td>0.0</td>\n",
       "    </tr>\n",
       "    <tr>\n",
       "      <th>936</th>\n",
       "      <td>5709-LVOEQ</td>\n",
       "      <td>Two year</td>\n",
       "      <td>0</td>\n",
       "      <td>Mailed check</td>\n",
       "      <td>80.85</td>\n",
       "      <td>NaN</td>\n",
       "      <td>0</td>\n",
       "      <td>0.0</td>\n",
       "    </tr>\n",
       "    <tr>\n",
       "      <th>1082</th>\n",
       "      <td>4367-NUYAO</td>\n",
       "      <td>Two year</td>\n",
       "      <td>0</td>\n",
       "      <td>Mailed check</td>\n",
       "      <td>25.75</td>\n",
       "      <td>NaN</td>\n",
       "      <td>0</td>\n",
       "      <td>0.0</td>\n",
       "    </tr>\n",
       "    <tr>\n",
       "      <th>1340</th>\n",
       "      <td>1371-DWPAZ</td>\n",
       "      <td>Two year</td>\n",
       "      <td>0</td>\n",
       "      <td>Credit card (automatic)</td>\n",
       "      <td>56.05</td>\n",
       "      <td>NaN</td>\n",
       "      <td>0</td>\n",
       "      <td>0.0</td>\n",
       "    </tr>\n",
       "    <tr>\n",
       "      <th>3331</th>\n",
       "      <td>7644-OMVMY</td>\n",
       "      <td>Two year</td>\n",
       "      <td>0</td>\n",
       "      <td>Mailed check</td>\n",
       "      <td>19.85</td>\n",
       "      <td>NaN</td>\n",
       "      <td>0</td>\n",
       "      <td>0.0</td>\n",
       "    </tr>\n",
       "    <tr>\n",
       "      <th>3826</th>\n",
       "      <td>3213-VVOLG</td>\n",
       "      <td>Two year</td>\n",
       "      <td>0</td>\n",
       "      <td>Mailed check</td>\n",
       "      <td>25.35</td>\n",
       "      <td>NaN</td>\n",
       "      <td>0</td>\n",
       "      <td>0.0</td>\n",
       "    </tr>\n",
       "    <tr>\n",
       "      <th>4380</th>\n",
       "      <td>2520-SGTTA</td>\n",
       "      <td>Two year</td>\n",
       "      <td>0</td>\n",
       "      <td>Mailed check</td>\n",
       "      <td>20.00</td>\n",
       "      <td>NaN</td>\n",
       "      <td>0</td>\n",
       "      <td>0.0</td>\n",
       "    </tr>\n",
       "    <tr>\n",
       "      <th>5218</th>\n",
       "      <td>2923-ARZLG</td>\n",
       "      <td>One year</td>\n",
       "      <td>1</td>\n",
       "      <td>Mailed check</td>\n",
       "      <td>19.70</td>\n",
       "      <td>NaN</td>\n",
       "      <td>0</td>\n",
       "      <td>0.0</td>\n",
       "    </tr>\n",
       "    <tr>\n",
       "      <th>6670</th>\n",
       "      <td>4075-WKNIU</td>\n",
       "      <td>Two year</td>\n",
       "      <td>0</td>\n",
       "      <td>Mailed check</td>\n",
       "      <td>73.35</td>\n",
       "      <td>NaN</td>\n",
       "      <td>0</td>\n",
       "      <td>0.0</td>\n",
       "    </tr>\n",
       "    <tr>\n",
       "      <th>6754</th>\n",
       "      <td>2775-SEFEE</td>\n",
       "      <td>Two year</td>\n",
       "      <td>1</td>\n",
       "      <td>Bank transfer (automatic)</td>\n",
       "      <td>61.90</td>\n",
       "      <td>NaN</td>\n",
       "      <td>0</td>\n",
       "      <td>0.0</td>\n",
       "    </tr>\n",
       "  </tbody>\n",
       "</table>\n",
       "</div>"
      ],
      "text/plain": [
       "      customerID      Type  PaperlessBilling              PaymentMethod  \\\n",
       "488   4472-LVYGI  Two year                 1  Bank transfer (automatic)   \n",
       "753   3115-CZMZD  Two year                 0               Mailed check   \n",
       "936   5709-LVOEQ  Two year                 0               Mailed check   \n",
       "1082  4367-NUYAO  Two year                 0               Mailed check   \n",
       "1340  1371-DWPAZ  Two year                 0    Credit card (automatic)   \n",
       "3331  7644-OMVMY  Two year                 0               Mailed check   \n",
       "3826  3213-VVOLG  Two year                 0               Mailed check   \n",
       "4380  2520-SGTTA  Two year                 0               Mailed check   \n",
       "5218  2923-ARZLG  One year                 1               Mailed check   \n",
       "6670  4075-WKNIU  Two year                 0               Mailed check   \n",
       "6754  2775-SEFEE  Two year                 1  Bank transfer (automatic)   \n",
       "\n",
       "      MonthlyCharges  TotalCharges  churn  days  \n",
       "488            52.55           NaN      0   0.0  \n",
       "753            20.25           NaN      0   0.0  \n",
       "936            80.85           NaN      0   0.0  \n",
       "1082           25.75           NaN      0   0.0  \n",
       "1340           56.05           NaN      0   0.0  \n",
       "3331           19.85           NaN      0   0.0  \n",
       "3826           25.35           NaN      0   0.0  \n",
       "4380           20.00           NaN      0   0.0  \n",
       "5218           19.70           NaN      0   0.0  \n",
       "6670           73.35           NaN      0   0.0  \n",
       "6754           61.90           NaN      0   0.0  "
      ]
     },
     "execution_count": 26,
     "metadata": {},
     "output_type": "execute_result"
    }
   ],
   "source": [
    "nan_contract = data_contract_final.query('TotalCharges.isna()')\n",
    "nan_contract"
   ]
  },
  {
   "cell_type": "markdown",
   "id": "c620bfc0",
   "metadata": {},
   "source": [
    "Según observamos, estos clientes tienen una fecha de inicio el 2020-02-01, que podría sugerir que son clientes nuevos. "
   ]
  },
  {
   "cell_type": "code",
   "execution_count": 27,
   "id": "68f2f0fa",
   "metadata": {},
   "outputs": [],
   "source": [
    "# Rellenamos los valores NaN con valor 0\n",
    "data_contract_final['TotalCharges'] = data_contract_final['TotalCharges'].fillna(0)"
   ]
  },
  {
   "cell_type": "code",
   "execution_count": 28,
   "id": "f1f5a774",
   "metadata": {},
   "outputs": [
    {
     "name": "stdout",
     "output_type": "stream",
     "text": [
      "<class 'pandas.core.frame.DataFrame'>\n",
      "RangeIndex: 7043 entries, 0 to 7042\n",
      "Data columns (total 8 columns):\n",
      " #   Column            Non-Null Count  Dtype   \n",
      "---  ------            --------------  -----   \n",
      " 0   customerID        7043 non-null   object  \n",
      " 1   Type              7043 non-null   category\n",
      " 2   PaperlessBilling  7043 non-null   int64   \n",
      " 3   PaymentMethod     7043 non-null   category\n",
      " 4   MonthlyCharges    7043 non-null   float64 \n",
      " 5   TotalCharges      7043 non-null   float64 \n",
      " 6   churn             7043 non-null   int64   \n",
      " 7   days              7043 non-null   float64 \n",
      "dtypes: category(2), float64(3), int64(2), object(1)\n",
      "memory usage: 344.3+ KB\n"
     ]
    }
   ],
   "source": [
    "#Revisemos si quedó bien\n",
    "data_contract_final.info()"
   ]
  },
  {
   "cell_type": "code",
   "execution_count": 29,
   "id": "48b8b2e0",
   "metadata": {},
   "outputs": [],
   "source": [
    "#Dataset de Personal:\n",
    "data_personal['gender'] = data_personal['gender'].replace({'Male': 0, 'Female': 1})\n",
    "data_personal['Partner'] = data_personal['Partner'].replace({'Yes': 1, 'No': 0})\n",
    "data_personal['Dependents'] = data_personal['Dependents'].replace({'Yes': 1, 'No': 0})"
   ]
  },
  {
   "cell_type": "code",
   "execution_count": 30,
   "id": "e4e6b5ff",
   "metadata": {},
   "outputs": [
    {
     "name": "stdout",
     "output_type": "stream",
     "text": [
      "<class 'pandas.core.frame.DataFrame'>\n",
      "RangeIndex: 7043 entries, 0 to 7042\n",
      "Data columns (total 5 columns):\n",
      " #   Column         Non-Null Count  Dtype \n",
      "---  ------         --------------  ----- \n",
      " 0   customerID     7043 non-null   object\n",
      " 1   gender         7043 non-null   int64 \n",
      " 2   SeniorCitizen  7043 non-null   int64 \n",
      " 3   Partner        7043 non-null   int64 \n",
      " 4   Dependents     7043 non-null   int64 \n",
      "dtypes: int64(4), object(1)\n",
      "memory usage: 275.2+ KB\n"
     ]
    }
   ],
   "source": [
    "data_personal.info()"
   ]
  },
  {
   "cell_type": "code",
   "execution_count": 31,
   "id": "59843036",
   "metadata": {},
   "outputs": [
    {
     "data": {
      "text/html": [
       "<div>\n",
       "<style scoped>\n",
       "    .dataframe tbody tr th:only-of-type {\n",
       "        vertical-align: middle;\n",
       "    }\n",
       "\n",
       "    .dataframe tbody tr th {\n",
       "        vertical-align: top;\n",
       "    }\n",
       "\n",
       "    .dataframe thead th {\n",
       "        text-align: right;\n",
       "    }\n",
       "</style>\n",
       "<table border=\"1\" class=\"dataframe\">\n",
       "  <thead>\n",
       "    <tr style=\"text-align: right;\">\n",
       "      <th></th>\n",
       "      <th>customerID</th>\n",
       "      <th>gender</th>\n",
       "      <th>SeniorCitizen</th>\n",
       "      <th>Partner</th>\n",
       "      <th>Dependents</th>\n",
       "    </tr>\n",
       "  </thead>\n",
       "  <tbody>\n",
       "    <tr>\n",
       "      <th>0</th>\n",
       "      <td>7590-VHVEG</td>\n",
       "      <td>1</td>\n",
       "      <td>0</td>\n",
       "      <td>1</td>\n",
       "      <td>0</td>\n",
       "    </tr>\n",
       "    <tr>\n",
       "      <th>1</th>\n",
       "      <td>5575-GNVDE</td>\n",
       "      <td>0</td>\n",
       "      <td>0</td>\n",
       "      <td>0</td>\n",
       "      <td>0</td>\n",
       "    </tr>\n",
       "    <tr>\n",
       "      <th>2</th>\n",
       "      <td>3668-QPYBK</td>\n",
       "      <td>0</td>\n",
       "      <td>0</td>\n",
       "      <td>0</td>\n",
       "      <td>0</td>\n",
       "    </tr>\n",
       "    <tr>\n",
       "      <th>3</th>\n",
       "      <td>7795-CFOCW</td>\n",
       "      <td>0</td>\n",
       "      <td>0</td>\n",
       "      <td>0</td>\n",
       "      <td>0</td>\n",
       "    </tr>\n",
       "    <tr>\n",
       "      <th>4</th>\n",
       "      <td>9237-HQITU</td>\n",
       "      <td>1</td>\n",
       "      <td>0</td>\n",
       "      <td>0</td>\n",
       "      <td>0</td>\n",
       "    </tr>\n",
       "  </tbody>\n",
       "</table>\n",
       "</div>"
      ],
      "text/plain": [
       "   customerID  gender  SeniorCitizen  Partner  Dependents\n",
       "0  7590-VHVEG       1              0        1           0\n",
       "1  5575-GNVDE       0              0        0           0\n",
       "2  3668-QPYBK       0              0        0           0\n",
       "3  7795-CFOCW       0              0        0           0\n",
       "4  9237-HQITU       1              0        0           0"
      ]
     },
     "execution_count": 31,
     "metadata": {},
     "output_type": "execute_result"
    }
   ],
   "source": [
    "data_personal.head()"
   ]
  },
  {
   "cell_type": "code",
   "execution_count": 32,
   "id": "f1f09a40",
   "metadata": {},
   "outputs": [
    {
     "data": {
      "text/plain": [
       "0    5901\n",
       "1    1142\n",
       "Name: SeniorCitizen, dtype: int64"
      ]
     },
     "execution_count": 32,
     "metadata": {},
     "output_type": "execute_result"
    }
   ],
   "source": [
    "data_personal['SeniorCitizen'].value_counts()"
   ]
  },
  {
   "cell_type": "code",
   "execution_count": 33,
   "id": "83b1865f",
   "metadata": {},
   "outputs": [
    {
     "data": {
      "text/html": [
       "<div>\n",
       "<style scoped>\n",
       "    .dataframe tbody tr th:only-of-type {\n",
       "        vertical-align: middle;\n",
       "    }\n",
       "\n",
       "    .dataframe tbody tr th {\n",
       "        vertical-align: top;\n",
       "    }\n",
       "\n",
       "    .dataframe thead th {\n",
       "        text-align: right;\n",
       "    }\n",
       "</style>\n",
       "<table border=\"1\" class=\"dataframe\">\n",
       "  <thead>\n",
       "    <tr style=\"text-align: right;\">\n",
       "      <th></th>\n",
       "      <th>customerID</th>\n",
       "      <th>InternetService</th>\n",
       "      <th>OnlineSecurity</th>\n",
       "      <th>OnlineBackup</th>\n",
       "      <th>DeviceProtection</th>\n",
       "      <th>TechSupport</th>\n",
       "      <th>StreamingTV</th>\n",
       "      <th>StreamingMovies</th>\n",
       "    </tr>\n",
       "  </thead>\n",
       "  <tbody>\n",
       "    <tr>\n",
       "      <th>0</th>\n",
       "      <td>7590-VHVEG</td>\n",
       "      <td>DSL</td>\n",
       "      <td>No</td>\n",
       "      <td>Yes</td>\n",
       "      <td>No</td>\n",
       "      <td>No</td>\n",
       "      <td>No</td>\n",
       "      <td>No</td>\n",
       "    </tr>\n",
       "    <tr>\n",
       "      <th>1</th>\n",
       "      <td>5575-GNVDE</td>\n",
       "      <td>DSL</td>\n",
       "      <td>Yes</td>\n",
       "      <td>No</td>\n",
       "      <td>Yes</td>\n",
       "      <td>No</td>\n",
       "      <td>No</td>\n",
       "      <td>No</td>\n",
       "    </tr>\n",
       "    <tr>\n",
       "      <th>2</th>\n",
       "      <td>3668-QPYBK</td>\n",
       "      <td>DSL</td>\n",
       "      <td>Yes</td>\n",
       "      <td>Yes</td>\n",
       "      <td>No</td>\n",
       "      <td>No</td>\n",
       "      <td>No</td>\n",
       "      <td>No</td>\n",
       "    </tr>\n",
       "    <tr>\n",
       "      <th>3</th>\n",
       "      <td>7795-CFOCW</td>\n",
       "      <td>DSL</td>\n",
       "      <td>Yes</td>\n",
       "      <td>No</td>\n",
       "      <td>Yes</td>\n",
       "      <td>Yes</td>\n",
       "      <td>No</td>\n",
       "      <td>No</td>\n",
       "    </tr>\n",
       "    <tr>\n",
       "      <th>4</th>\n",
       "      <td>9237-HQITU</td>\n",
       "      <td>Fiber optic</td>\n",
       "      <td>No</td>\n",
       "      <td>No</td>\n",
       "      <td>No</td>\n",
       "      <td>No</td>\n",
       "      <td>No</td>\n",
       "      <td>No</td>\n",
       "    </tr>\n",
       "  </tbody>\n",
       "</table>\n",
       "</div>"
      ],
      "text/plain": [
       "   customerID InternetService OnlineSecurity OnlineBackup DeviceProtection  \\\n",
       "0  7590-VHVEG             DSL             No          Yes               No   \n",
       "1  5575-GNVDE             DSL            Yes           No              Yes   \n",
       "2  3668-QPYBK             DSL            Yes          Yes               No   \n",
       "3  7795-CFOCW             DSL            Yes           No              Yes   \n",
       "4  9237-HQITU     Fiber optic             No           No               No   \n",
       "\n",
       "  TechSupport StreamingTV StreamingMovies  \n",
       "0          No          No              No  \n",
       "1          No          No              No  \n",
       "2          No          No              No  \n",
       "3         Yes          No              No  \n",
       "4          No          No              No  "
      ]
     },
     "execution_count": 33,
     "metadata": {},
     "output_type": "execute_result"
    }
   ],
   "source": [
    "data_internet.head()"
   ]
  },
  {
   "cell_type": "code",
   "execution_count": 34,
   "id": "8b01318d",
   "metadata": {},
   "outputs": [
    {
     "data": {
      "text/plain": [
       "Fiber optic    3096\n",
       "DSL            2421\n",
       "Name: InternetService, dtype: int64"
      ]
     },
     "execution_count": 34,
     "metadata": {},
     "output_type": "execute_result"
    }
   ],
   "source": [
    "data_internet['InternetService'].value_counts()"
   ]
  },
  {
   "cell_type": "code",
   "execution_count": 35,
   "id": "159f6c2d",
   "metadata": {},
   "outputs": [
    {
     "name": "stdout",
     "output_type": "stream",
     "text": [
      "<class 'pandas.core.frame.DataFrame'>\n",
      "RangeIndex: 5517 entries, 0 to 5516\n",
      "Data columns (total 8 columns):\n",
      " #   Column            Non-Null Count  Dtype \n",
      "---  ------            --------------  ----- \n",
      " 0   customerID        5517 non-null   object\n",
      " 1   InternetService   5517 non-null   object\n",
      " 2   OnlineSecurity    5517 non-null   object\n",
      " 3   OnlineBackup      5517 non-null   object\n",
      " 4   DeviceProtection  5517 non-null   object\n",
      " 5   TechSupport       5517 non-null   object\n",
      " 6   StreamingTV       5517 non-null   object\n",
      " 7   StreamingMovies   5517 non-null   object\n",
      "dtypes: object(8)\n",
      "memory usage: 344.9+ KB\n"
     ]
    }
   ],
   "source": [
    "data_internet.info()"
   ]
  },
  {
   "cell_type": "code",
   "execution_count": 36,
   "id": "398d090f",
   "metadata": {},
   "outputs": [
    {
     "name": "stdout",
     "output_type": "stream",
     "text": [
      "<class 'pandas.core.frame.DataFrame'>\n",
      "RangeIndex: 6361 entries, 0 to 6360\n",
      "Data columns (total 2 columns):\n",
      " #   Column         Non-Null Count  Dtype \n",
      "---  ------         --------------  ----- \n",
      " 0   customerID     6361 non-null   object\n",
      " 1   MultipleLines  6361 non-null   object\n",
      "dtypes: object(2)\n",
      "memory usage: 99.5+ KB\n"
     ]
    }
   ],
   "source": [
    "data_phone.info()"
   ]
  },
  {
   "cell_type": "code",
   "execution_count": 37,
   "id": "e98750ab",
   "metadata": {
    "scrolled": true
   },
   "outputs": [
    {
     "name": "stdout",
     "output_type": "stream",
     "text": [
      "<class 'pandas.core.frame.DataFrame'>\n",
      "RangeIndex: 7043 entries, 0 to 7042\n",
      "Data columns (total 8 columns):\n",
      " #   Column            Non-Null Count  Dtype   \n",
      "---  ------            --------------  -----   \n",
      " 0   customerid        7043 non-null   object  \n",
      " 1   type              7043 non-null   category\n",
      " 2   paperlessbilling  7043 non-null   int64   \n",
      " 3   paymentmethod     7043 non-null   category\n",
      " 4   monthlycharges    7043 non-null   float64 \n",
      " 5   totalcharges      7043 non-null   float64 \n",
      " 6   churn             7043 non-null   int64   \n",
      " 7   days              7043 non-null   float64 \n",
      "dtypes: category(2), float64(3), int64(2), object(1)\n",
      "memory usage: 344.3+ KB\n",
      "<class 'pandas.core.frame.DataFrame'>\n",
      "RangeIndex: 7043 entries, 0 to 7042\n",
      "Data columns (total 5 columns):\n",
      " #   Column         Non-Null Count  Dtype \n",
      "---  ------         --------------  ----- \n",
      " 0   customerid     7043 non-null   object\n",
      " 1   gender         7043 non-null   int64 \n",
      " 2   seniorcitizen  7043 non-null   int64 \n",
      " 3   partner        7043 non-null   int64 \n",
      " 4   dependents     7043 non-null   int64 \n",
      "dtypes: int64(4), object(1)\n",
      "memory usage: 275.2+ KB\n",
      "<class 'pandas.core.frame.DataFrame'>\n",
      "RangeIndex: 5517 entries, 0 to 5516\n",
      "Data columns (total 8 columns):\n",
      " #   Column            Non-Null Count  Dtype \n",
      "---  ------            --------------  ----- \n",
      " 0   customerid        5517 non-null   object\n",
      " 1   internetservice   5517 non-null   object\n",
      " 2   onlinesecurity    5517 non-null   object\n",
      " 3   onlinebackup      5517 non-null   object\n",
      " 4   deviceprotection  5517 non-null   object\n",
      " 5   techsupport       5517 non-null   object\n",
      " 6   streamingtv       5517 non-null   object\n",
      " 7   streamingmovies   5517 non-null   object\n",
      "dtypes: object(8)\n",
      "memory usage: 344.9+ KB\n",
      "<class 'pandas.core.frame.DataFrame'>\n",
      "RangeIndex: 6361 entries, 0 to 6360\n",
      "Data columns (total 2 columns):\n",
      " #   Column         Non-Null Count  Dtype \n",
      "---  ------         --------------  ----- \n",
      " 0   customerid     6361 non-null   object\n",
      " 1   multiplelines  6361 non-null   object\n",
      "dtypes: object(2)\n",
      "memory usage: 99.5+ KB\n"
     ]
    }
   ],
   "source": [
    "# Transformemos todas las columnas en minúsculas en los datasets:\n",
    "data_contract_final.columns = data_contract_final.columns.str.lower()\n",
    "data_personal.columns = data_personal.columns.str.lower()\n",
    "data_internet.columns = data_internet.columns.str.lower()\n",
    "data_phone.columns = data_phone.columns.str.lower()\n",
    "\n",
    "data_contract_final.info()\n",
    "data_personal.info()\n",
    "data_internet.info()\n",
    "data_phone.info()"
   ]
  },
  {
   "cell_type": "markdown",
   "id": "9859d75e",
   "metadata": {},
   "source": [
    "Podriamos empezar a juntar los diferentes Datasets en uno solo"
   ]
  },
  {
   "cell_type": "code",
   "execution_count": 38,
   "id": "62acf529",
   "metadata": {},
   "outputs": [],
   "source": [
    "# Creamos 1 solo Dataframe\n",
    "final_data = pd.merge(data_contract_final, data_personal, on='customerid', how='outer')\n",
    "final_data = pd.merge(    final_data, data_internet, on='customerid', how='outer')\n",
    "final_data = pd.merge(    final_data,    data_phone, on='customerid', how='outer')"
   ]
  },
  {
   "cell_type": "code",
   "execution_count": 39,
   "id": "233deafa",
   "metadata": {},
   "outputs": [
    {
     "name": "stdout",
     "output_type": "stream",
     "text": [
      "<class 'pandas.core.frame.DataFrame'>\n",
      "Int64Index: 7043 entries, 0 to 7042\n",
      "Data columns (total 20 columns):\n",
      " #   Column            Non-Null Count  Dtype   \n",
      "---  ------            --------------  -----   \n",
      " 0   customerid        7043 non-null   object  \n",
      " 1   type              7043 non-null   category\n",
      " 2   paperlessbilling  7043 non-null   int64   \n",
      " 3   paymentmethod     7043 non-null   category\n",
      " 4   monthlycharges    7043 non-null   float64 \n",
      " 5   totalcharges      7043 non-null   float64 \n",
      " 6   churn             7043 non-null   int64   \n",
      " 7   days              7043 non-null   float64 \n",
      " 8   gender            7043 non-null   int64   \n",
      " 9   seniorcitizen     7043 non-null   int64   \n",
      " 10  partner           7043 non-null   int64   \n",
      " 11  dependents        7043 non-null   int64   \n",
      " 12  internetservice   5517 non-null   object  \n",
      " 13  onlinesecurity    5517 non-null   object  \n",
      " 14  onlinebackup      5517 non-null   object  \n",
      " 15  deviceprotection  5517 non-null   object  \n",
      " 16  techsupport       5517 non-null   object  \n",
      " 17  streamingtv       5517 non-null   object  \n",
      " 18  streamingmovies   5517 non-null   object  \n",
      " 19  multiplelines     6361 non-null   object  \n",
      "dtypes: category(2), float64(3), int64(6), object(9)\n",
      "memory usage: 1.0+ MB\n"
     ]
    }
   ],
   "source": [
    "final_data.info()"
   ]
  },
  {
   "cell_type": "markdown",
   "id": "50f302bf",
   "metadata": {},
   "source": [
    "Generamos unos datos faltantes en:\n",
    "    - la columna `multiplelines`, esto lo arreglaremos que todos los NaN, sean NO. Además, cambiamos el tipo de dato a categórica.\n",
    "    - las columnas `internetservice`, `onlinesecurity`, `onlinebackup`, `deviceprotection`, `techsupport`, `streamingtv` y `streamingmovies`, arreglaremos en que todos los NaN, sean NO. Además, cambiamos el tipo del dato a 'int'."
   ]
  },
  {
   "cell_type": "code",
   "execution_count": 40,
   "id": "bdcde7b5",
   "metadata": {},
   "outputs": [
    {
     "data": {
      "text/html": [
       "<div>\n",
       "<style scoped>\n",
       "    .dataframe tbody tr th:only-of-type {\n",
       "        vertical-align: middle;\n",
       "    }\n",
       "\n",
       "    .dataframe tbody tr th {\n",
       "        vertical-align: top;\n",
       "    }\n",
       "\n",
       "    .dataframe thead th {\n",
       "        text-align: right;\n",
       "    }\n",
       "</style>\n",
       "<table border=\"1\" class=\"dataframe\">\n",
       "  <thead>\n",
       "    <tr style=\"text-align: right;\">\n",
       "      <th></th>\n",
       "      <th>customerid</th>\n",
       "      <th>type</th>\n",
       "      <th>paperlessbilling</th>\n",
       "      <th>paymentmethod</th>\n",
       "      <th>monthlycharges</th>\n",
       "      <th>totalcharges</th>\n",
       "      <th>churn</th>\n",
       "      <th>days</th>\n",
       "      <th>gender</th>\n",
       "      <th>seniorcitizen</th>\n",
       "      <th>partner</th>\n",
       "      <th>dependents</th>\n",
       "      <th>internetservice</th>\n",
       "      <th>onlinesecurity</th>\n",
       "      <th>onlinebackup</th>\n",
       "      <th>deviceprotection</th>\n",
       "      <th>techsupport</th>\n",
       "      <th>streamingtv</th>\n",
       "      <th>streamingmovies</th>\n",
       "      <th>multiplelines</th>\n",
       "    </tr>\n",
       "  </thead>\n",
       "  <tbody>\n",
       "    <tr>\n",
       "      <th>0</th>\n",
       "      <td>7590-VHVEG</td>\n",
       "      <td>Month-to-month</td>\n",
       "      <td>1</td>\n",
       "      <td>Electronic check</td>\n",
       "      <td>29.85</td>\n",
       "      <td>29.85</td>\n",
       "      <td>0</td>\n",
       "      <td>31.0</td>\n",
       "      <td>1</td>\n",
       "      <td>0</td>\n",
       "      <td>1</td>\n",
       "      <td>0</td>\n",
       "      <td>DSL</td>\n",
       "      <td>No</td>\n",
       "      <td>Yes</td>\n",
       "      <td>No</td>\n",
       "      <td>No</td>\n",
       "      <td>No</td>\n",
       "      <td>No</td>\n",
       "      <td>NaN</td>\n",
       "    </tr>\n",
       "    <tr>\n",
       "      <th>1</th>\n",
       "      <td>5575-GNVDE</td>\n",
       "      <td>One year</td>\n",
       "      <td>0</td>\n",
       "      <td>Mailed check</td>\n",
       "      <td>56.95</td>\n",
       "      <td>1889.50</td>\n",
       "      <td>0</td>\n",
       "      <td>1036.0</td>\n",
       "      <td>0</td>\n",
       "      <td>0</td>\n",
       "      <td>0</td>\n",
       "      <td>0</td>\n",
       "      <td>DSL</td>\n",
       "      <td>Yes</td>\n",
       "      <td>No</td>\n",
       "      <td>Yes</td>\n",
       "      <td>No</td>\n",
       "      <td>No</td>\n",
       "      <td>No</td>\n",
       "      <td>No</td>\n",
       "    </tr>\n",
       "    <tr>\n",
       "      <th>2</th>\n",
       "      <td>3668-QPYBK</td>\n",
       "      <td>Month-to-month</td>\n",
       "      <td>1</td>\n",
       "      <td>Mailed check</td>\n",
       "      <td>53.85</td>\n",
       "      <td>108.15</td>\n",
       "      <td>1</td>\n",
       "      <td>61.0</td>\n",
       "      <td>0</td>\n",
       "      <td>0</td>\n",
       "      <td>0</td>\n",
       "      <td>0</td>\n",
       "      <td>DSL</td>\n",
       "      <td>Yes</td>\n",
       "      <td>Yes</td>\n",
       "      <td>No</td>\n",
       "      <td>No</td>\n",
       "      <td>No</td>\n",
       "      <td>No</td>\n",
       "      <td>No</td>\n",
       "    </tr>\n",
       "    <tr>\n",
       "      <th>3</th>\n",
       "      <td>7795-CFOCW</td>\n",
       "      <td>One year</td>\n",
       "      <td>0</td>\n",
       "      <td>Bank transfer (automatic)</td>\n",
       "      <td>42.30</td>\n",
       "      <td>1840.75</td>\n",
       "      <td>0</td>\n",
       "      <td>1371.0</td>\n",
       "      <td>0</td>\n",
       "      <td>0</td>\n",
       "      <td>0</td>\n",
       "      <td>0</td>\n",
       "      <td>DSL</td>\n",
       "      <td>Yes</td>\n",
       "      <td>No</td>\n",
       "      <td>Yes</td>\n",
       "      <td>Yes</td>\n",
       "      <td>No</td>\n",
       "      <td>No</td>\n",
       "      <td>NaN</td>\n",
       "    </tr>\n",
       "    <tr>\n",
       "      <th>4</th>\n",
       "      <td>9237-HQITU</td>\n",
       "      <td>Month-to-month</td>\n",
       "      <td>1</td>\n",
       "      <td>Electronic check</td>\n",
       "      <td>70.70</td>\n",
       "      <td>151.65</td>\n",
       "      <td>1</td>\n",
       "      <td>61.0</td>\n",
       "      <td>1</td>\n",
       "      <td>0</td>\n",
       "      <td>0</td>\n",
       "      <td>0</td>\n",
       "      <td>Fiber optic</td>\n",
       "      <td>No</td>\n",
       "      <td>No</td>\n",
       "      <td>No</td>\n",
       "      <td>No</td>\n",
       "      <td>No</td>\n",
       "      <td>No</td>\n",
       "      <td>No</td>\n",
       "    </tr>\n",
       "  </tbody>\n",
       "</table>\n",
       "</div>"
      ],
      "text/plain": [
       "   customerid            type  paperlessbilling              paymentmethod  \\\n",
       "0  7590-VHVEG  Month-to-month                 1           Electronic check   \n",
       "1  5575-GNVDE        One year                 0               Mailed check   \n",
       "2  3668-QPYBK  Month-to-month                 1               Mailed check   \n",
       "3  7795-CFOCW        One year                 0  Bank transfer (automatic)   \n",
       "4  9237-HQITU  Month-to-month                 1           Electronic check   \n",
       "\n",
       "   monthlycharges  totalcharges  churn    days  gender  seniorcitizen  \\\n",
       "0           29.85         29.85      0    31.0       1              0   \n",
       "1           56.95       1889.50      0  1036.0       0              0   \n",
       "2           53.85        108.15      1    61.0       0              0   \n",
       "3           42.30       1840.75      0  1371.0       0              0   \n",
       "4           70.70        151.65      1    61.0       1              0   \n",
       "\n",
       "   partner  dependents internetservice onlinesecurity onlinebackup  \\\n",
       "0        1           0             DSL             No          Yes   \n",
       "1        0           0             DSL            Yes           No   \n",
       "2        0           0             DSL            Yes          Yes   \n",
       "3        0           0             DSL            Yes           No   \n",
       "4        0           0     Fiber optic             No           No   \n",
       "\n",
       "  deviceprotection techsupport streamingtv streamingmovies multiplelines  \n",
       "0               No          No          No              No           NaN  \n",
       "1              Yes          No          No              No            No  \n",
       "2               No          No          No              No            No  \n",
       "3              Yes         Yes          No              No           NaN  \n",
       "4               No          No          No              No            No  "
      ]
     },
     "execution_count": 40,
     "metadata": {},
     "output_type": "execute_result"
    }
   ],
   "source": [
    "final_data.head()"
   ]
  },
  {
   "cell_type": "code",
   "execution_count": 41,
   "id": "b31e3a79",
   "metadata": {},
   "outputs": [],
   "source": [
    "str_cols = final_data.columns[final_data.dtypes=='object']\n",
    "final_data[str_cols] = final_data[str_cols].fillna('No')"
   ]
  },
  {
   "cell_type": "code",
   "execution_count": 42,
   "id": "0fda900d",
   "metadata": {},
   "outputs": [],
   "source": [
    "#converting to categorical columns\n",
    "final_data['onlinesecurity'] = (final_data['onlinesecurity'] == \"Yes\").astype(\"category\")\n",
    "final_data['onlinebackup'] = (final_data['onlinebackup'] == \"Yes\").astype(\"category\")\n",
    "final_data['techsupport'] = (final_data['techsupport'] == \"Yes\").astype(\"category\")\n",
    "final_data['deviceprotection'] = (final_data['deviceprotection'] == \"Yes\").astype(\"category\")\n",
    "final_data['streamingtv'] = (final_data['streamingtv'] == \"Yes\").astype(\"category\")\n",
    "final_data['streamingmovies'] = (final_data['streamingmovies'] == \"Yes\").astype(\"category\")\n",
    "final_data['internetservice'] = final_data['internetservice'].astype('category')\n",
    "final_data['multiplelines'] = (final_data['multiplelines'] == \"Yes\").astype(\"category\")"
   ]
  },
  {
   "cell_type": "code",
   "execution_count": 43,
   "id": "8a461e7e",
   "metadata": {},
   "outputs": [
    {
     "name": "stdout",
     "output_type": "stream",
     "text": [
      "<class 'pandas.core.frame.DataFrame'>\n",
      "Int64Index: 7043 entries, 0 to 7042\n",
      "Data columns (total 20 columns):\n",
      " #   Column            Non-Null Count  Dtype   \n",
      "---  ------            --------------  -----   \n",
      " 0   customerid        7043 non-null   object  \n",
      " 1   type              7043 non-null   category\n",
      " 2   paperlessbilling  7043 non-null   int64   \n",
      " 3   paymentmethod     7043 non-null   category\n",
      " 4   monthlycharges    7043 non-null   float64 \n",
      " 5   totalcharges      7043 non-null   float64 \n",
      " 6   churn             7043 non-null   int64   \n",
      " 7   days              7043 non-null   float64 \n",
      " 8   gender            7043 non-null   int64   \n",
      " 9   seniorcitizen     7043 non-null   int64   \n",
      " 10  partner           7043 non-null   int64   \n",
      " 11  dependents        7043 non-null   int64   \n",
      " 12  internetservice   7043 non-null   category\n",
      " 13  onlinesecurity    7043 non-null   category\n",
      " 14  onlinebackup      7043 non-null   category\n",
      " 15  deviceprotection  7043 non-null   category\n",
      " 16  techsupport       7043 non-null   category\n",
      " 17  streamingtv       7043 non-null   category\n",
      " 18  streamingmovies   7043 non-null   category\n",
      " 19  multiplelines     7043 non-null   category\n",
      "dtypes: category(10), float64(3), int64(6), object(1)\n",
      "memory usage: 675.3+ KB\n"
     ]
    }
   ],
   "source": [
    "final_data.info()"
   ]
  },
  {
   "cell_type": "code",
   "execution_count": 44,
   "id": "5428430c",
   "metadata": {},
   "outputs": [
    {
     "data": {
      "text/html": [
       "<div>\n",
       "<style scoped>\n",
       "    .dataframe tbody tr th:only-of-type {\n",
       "        vertical-align: middle;\n",
       "    }\n",
       "\n",
       "    .dataframe tbody tr th {\n",
       "        vertical-align: top;\n",
       "    }\n",
       "\n",
       "    .dataframe thead th {\n",
       "        text-align: right;\n",
       "    }\n",
       "</style>\n",
       "<table border=\"1\" class=\"dataframe\">\n",
       "  <thead>\n",
       "    <tr style=\"text-align: right;\">\n",
       "      <th></th>\n",
       "      <th>customerid</th>\n",
       "      <th>type</th>\n",
       "      <th>paperlessbilling</th>\n",
       "      <th>paymentmethod</th>\n",
       "      <th>monthlycharges</th>\n",
       "      <th>totalcharges</th>\n",
       "      <th>churn</th>\n",
       "      <th>days</th>\n",
       "      <th>gender</th>\n",
       "      <th>seniorcitizen</th>\n",
       "      <th>partner</th>\n",
       "      <th>dependents</th>\n",
       "      <th>internetservice</th>\n",
       "      <th>onlinesecurity</th>\n",
       "      <th>onlinebackup</th>\n",
       "      <th>deviceprotection</th>\n",
       "      <th>techsupport</th>\n",
       "      <th>streamingtv</th>\n",
       "      <th>streamingmovies</th>\n",
       "      <th>multiplelines</th>\n",
       "    </tr>\n",
       "  </thead>\n",
       "  <tbody>\n",
       "    <tr>\n",
       "      <th>0</th>\n",
       "      <td>7590-VHVEG</td>\n",
       "      <td>Month-to-month</td>\n",
       "      <td>1</td>\n",
       "      <td>Electronic check</td>\n",
       "      <td>29.85</td>\n",
       "      <td>29.85</td>\n",
       "      <td>0</td>\n",
       "      <td>31.0</td>\n",
       "      <td>1</td>\n",
       "      <td>0</td>\n",
       "      <td>1</td>\n",
       "      <td>0</td>\n",
       "      <td>DSL</td>\n",
       "      <td>False</td>\n",
       "      <td>True</td>\n",
       "      <td>False</td>\n",
       "      <td>False</td>\n",
       "      <td>False</td>\n",
       "      <td>False</td>\n",
       "      <td>False</td>\n",
       "    </tr>\n",
       "    <tr>\n",
       "      <th>1</th>\n",
       "      <td>5575-GNVDE</td>\n",
       "      <td>One year</td>\n",
       "      <td>0</td>\n",
       "      <td>Mailed check</td>\n",
       "      <td>56.95</td>\n",
       "      <td>1889.50</td>\n",
       "      <td>0</td>\n",
       "      <td>1036.0</td>\n",
       "      <td>0</td>\n",
       "      <td>0</td>\n",
       "      <td>0</td>\n",
       "      <td>0</td>\n",
       "      <td>DSL</td>\n",
       "      <td>True</td>\n",
       "      <td>False</td>\n",
       "      <td>True</td>\n",
       "      <td>False</td>\n",
       "      <td>False</td>\n",
       "      <td>False</td>\n",
       "      <td>False</td>\n",
       "    </tr>\n",
       "    <tr>\n",
       "      <th>2</th>\n",
       "      <td>3668-QPYBK</td>\n",
       "      <td>Month-to-month</td>\n",
       "      <td>1</td>\n",
       "      <td>Mailed check</td>\n",
       "      <td>53.85</td>\n",
       "      <td>108.15</td>\n",
       "      <td>1</td>\n",
       "      <td>61.0</td>\n",
       "      <td>0</td>\n",
       "      <td>0</td>\n",
       "      <td>0</td>\n",
       "      <td>0</td>\n",
       "      <td>DSL</td>\n",
       "      <td>True</td>\n",
       "      <td>True</td>\n",
       "      <td>False</td>\n",
       "      <td>False</td>\n",
       "      <td>False</td>\n",
       "      <td>False</td>\n",
       "      <td>False</td>\n",
       "    </tr>\n",
       "    <tr>\n",
       "      <th>3</th>\n",
       "      <td>7795-CFOCW</td>\n",
       "      <td>One year</td>\n",
       "      <td>0</td>\n",
       "      <td>Bank transfer (automatic)</td>\n",
       "      <td>42.30</td>\n",
       "      <td>1840.75</td>\n",
       "      <td>0</td>\n",
       "      <td>1371.0</td>\n",
       "      <td>0</td>\n",
       "      <td>0</td>\n",
       "      <td>0</td>\n",
       "      <td>0</td>\n",
       "      <td>DSL</td>\n",
       "      <td>True</td>\n",
       "      <td>False</td>\n",
       "      <td>True</td>\n",
       "      <td>True</td>\n",
       "      <td>False</td>\n",
       "      <td>False</td>\n",
       "      <td>False</td>\n",
       "    </tr>\n",
       "    <tr>\n",
       "      <th>4</th>\n",
       "      <td>9237-HQITU</td>\n",
       "      <td>Month-to-month</td>\n",
       "      <td>1</td>\n",
       "      <td>Electronic check</td>\n",
       "      <td>70.70</td>\n",
       "      <td>151.65</td>\n",
       "      <td>1</td>\n",
       "      <td>61.0</td>\n",
       "      <td>1</td>\n",
       "      <td>0</td>\n",
       "      <td>0</td>\n",
       "      <td>0</td>\n",
       "      <td>Fiber optic</td>\n",
       "      <td>False</td>\n",
       "      <td>False</td>\n",
       "      <td>False</td>\n",
       "      <td>False</td>\n",
       "      <td>False</td>\n",
       "      <td>False</td>\n",
       "      <td>False</td>\n",
       "    </tr>\n",
       "  </tbody>\n",
       "</table>\n",
       "</div>"
      ],
      "text/plain": [
       "   customerid            type  paperlessbilling              paymentmethod  \\\n",
       "0  7590-VHVEG  Month-to-month                 1           Electronic check   \n",
       "1  5575-GNVDE        One year                 0               Mailed check   \n",
       "2  3668-QPYBK  Month-to-month                 1               Mailed check   \n",
       "3  7795-CFOCW        One year                 0  Bank transfer (automatic)   \n",
       "4  9237-HQITU  Month-to-month                 1           Electronic check   \n",
       "\n",
       "   monthlycharges  totalcharges  churn    days  gender  seniorcitizen  \\\n",
       "0           29.85         29.85      0    31.0       1              0   \n",
       "1           56.95       1889.50      0  1036.0       0              0   \n",
       "2           53.85        108.15      1    61.0       0              0   \n",
       "3           42.30       1840.75      0  1371.0       0              0   \n",
       "4           70.70        151.65      1    61.0       1              0   \n",
       "\n",
       "   partner  dependents internetservice onlinesecurity onlinebackup  \\\n",
       "0        1           0             DSL          False         True   \n",
       "1        0           0             DSL           True        False   \n",
       "2        0           0             DSL           True         True   \n",
       "3        0           0             DSL           True        False   \n",
       "4        0           0     Fiber optic          False        False   \n",
       "\n",
       "  deviceprotection techsupport streamingtv streamingmovies multiplelines  \n",
       "0            False       False       False           False         False  \n",
       "1             True       False       False           False         False  \n",
       "2            False       False       False           False         False  \n",
       "3             True        True       False           False         False  \n",
       "4            False       False       False           False         False  "
      ]
     },
     "execution_count": 44,
     "metadata": {},
     "output_type": "execute_result"
    }
   ],
   "source": [
    "final_data.head()"
   ]
  },
  {
   "cell_type": "markdown",
   "id": "bb3f8622",
   "metadata": {},
   "source": [
    "Logramos llenar todos los datos faltantes y cambiarlos al tipo que queríamos."
   ]
  },
  {
   "cell_type": "markdown",
   "id": "7d10f147",
   "metadata": {},
   "source": [
    "#### Preguntas a responder"
   ]
  },
  {
   "cell_type": "markdown",
   "id": "a0fe9bf8",
   "metadata": {},
   "source": [
    "Analisaremos nuestros datos, respondiendo las siguientes preguntas:\n",
    "\n",
    "    - Cuál es la cantidad que se ha quedado y cancelado?\n",
    "    - Cuál es el método de pago más popular?\n",
    "    - Habrá diferencia de popularidad de método de pago entre distintas edades y géneros?\n",
    "    - Cuál es el servicio de internet más popular?\n",
    "    - Hay diferencia de servicio de internet entre distintas edades o generos?\n",
    "    - Si la hay, cuál es la diferencia entre el cargo mensual o total entre distintas edades?    "
   ]
  },
  {
   "cell_type": "markdown",
   "id": "552a1c13",
   "metadata": {},
   "source": [
    "# Análisis de Datos"
   ]
  },
  {
   "cell_type": "code",
   "execution_count": 45,
   "id": "07a3147e",
   "metadata": {},
   "outputs": [
    {
     "data": {
      "text/plain": [
       "<AxesSubplot:>"
      ]
     },
     "execution_count": 45,
     "metadata": {},
     "output_type": "execute_result"
    },
    {
     "data": {
      "image/png": "[encoded data removed]",
      "text/plain": [
       "<Figure size 432x288 with 1 Axes>"
      ]
     },
     "metadata": {
      "needs_background": "light"
     },
     "output_type": "display_data"
    }
   ],
   "source": [
    "final_data['churn'].hist()"
   ]
  },
  {
   "cell_type": "markdown",
   "id": "d9971ee6",
   "metadata": {},
   "source": [
    "Viendo la primera parte, observamos que de todo el dataset, un poco menos de 2000 usuarios fueron los que se fueron y sobre 5000 se quedaron."
   ]
  },
  {
   "cell_type": "code",
   "execution_count": 46,
   "id": "83567be4",
   "metadata": {},
   "outputs": [
    {
     "name": "stderr",
     "output_type": "stream",
     "text": [
      "No handles with labels found to put in legend.\n",
      "No handles with labels found to put in legend.\n",
      "No handles with labels found to put in legend.\n",
      "No handles with labels found to put in legend.\n",
      "No handles with labels found to put in legend.\n",
      "No handles with labels found to put in legend.\n",
      "No handles with labels found to put in legend.\n",
      "No handles with labels found to put in legend.\n",
      "No handles with labels found to put in legend.\n",
      "No handles with labels found to put in legend.\n",
      "No handles with labels found to put in legend.\n",
      "No handles with labels found to put in legend.\n",
      "No handles with labels found to put in legend.\n",
      "No handles with labels found to put in legend.\n",
      "No handles with labels found to put in legend.\n",
      "No handles with labels found to put in legend.\n"
     ]
    },
    {
     "data": {
      "image/png": "[encoded data removed]",
      "text/plain": [
       "<Figure size 1440x1440 with 20 Axes>"
      ]
     },
     "metadata": {
      "needs_background": "light"
     },
     "output_type": "display_data"
    }
   ],
   "source": [
    "#Plot graphs with features vs the churn. Boxplots for discrete features, bar charts for categorical values\n",
    "fig, axs = plt.subplots(4, len(final_data.columns) // 4, figsize=(20,20))\n",
    "axs = axs.flatten()\n",
    "cols=list(set(final_data.columns) - set(['customerid']))\n",
    "for col, ax in zip(cols, axs):\n",
    "    if final_data[col].dtype=='float64':\n",
    "        final_data.boxplot(column=col, by='churn', ax=ax)\n",
    "        plt.suptitle('')\n",
    "    else:\n",
    "        df = final_data.groupby([col, 'churn'])['churn'].count().unstack()\n",
    "        df.plot(kind='bar', stacked=False, label='#churn (neg, pos)', ax=ax)\n",
    "        plt.legend(loc='upper left')\n",
    "    \n",
    "plt.tight_layout()\n",
    "plt.show()"
   ]
  },
  {
   "cell_type": "markdown",
   "id": "df83e314",
   "metadata": {},
   "source": [
    "De estos gráfico, por el momento, podemos observar lo siguiente:\n",
    "\n",
    "- En la columna `gender`, no tiene mucha influencia si es Hombre o Mujer, se han quedado, como se han ido una cantidad bastante parecida.\n",
    "- En la columna `partner` en cambio, observamos que los que no tienen un partner, se han ido más gente que los que si tienen un partner.\n",
    "- En la columna `dependents`, observamos algo parecido como en la anterior. Los que no tienen dependencias, se han ido más que los que tienen dependencias. Pero aún así, la cantidad que se ha quedado es superior de los que no tienen dependencias a los que si tienen.\n",
    "- En la columna `type`de contrato, los que más se han ido, son los que tienen pago mensual. Podría ser esto algo coincidente por el método de pago? Ya que da la facilidad de cancelar el servicio al mes y no propone mayor compromiso del cliente hacia el producto.\n",
    "- En la columna `paymentmethod`, los que más se han ido, son los que pagaban con 'Electronic Check'. Pero aún así, la cantidad que quedan con ese método de pago, es alto.\n",
    "- En las columnas correspondientes a la suscripción de internet, los que se fueron no tenían uno o más de un servicio contratado.\n",
    "- Los que se fueron, no fueron ciudadanos senior.\n",
    "- Además, podemos observar, que la gran mayoría que se fué, fueron usuarios que tenían cargos mensuales, que rondan los 80USD en promedio. "
   ]
  },
  {
   "cell_type": "markdown",
   "id": "3aa0c9a2",
   "metadata": {},
   "source": [
    "#### Internet más popular"
   ]
  },
  {
   "cell_type": "code",
   "execution_count": 47,
   "id": "57659f19",
   "metadata": {},
   "outputs": [
    {
     "data": {
      "image/png": "[encoded data removed]",
      "text/plain": [
       "<Figure size 432x288 with 1 Axes>"
      ]
     },
     "metadata": {
      "needs_background": "light"
     },
     "output_type": "display_data"
    }
   ],
   "source": [
    "final_data['internetservice'].hist()\n",
    "plt.title('Internet Service')\n",
    "plt.show()"
   ]
  },
  {
   "cell_type": "markdown",
   "id": "9a3554d4",
   "metadata": {},
   "source": [
    "El servicio de internet más popular, es el de fibra óptica. De todas formas, tenemos una buena cantidad de usuarios que no tienen contratado Internet."
   ]
  },
  {
   "cell_type": "code",
   "execution_count": 48,
   "id": "cb063062",
   "metadata": {},
   "outputs": [
    {
     "data": {
      "image/png": "[encoded data removed]",
      "text/plain": [
       "<Figure size 432x288 with 1 Axes>"
      ]
     },
     "metadata": {
      "needs_background": "light"
     },
     "output_type": "display_data"
    }
   ],
   "source": [
    "internet_df = final_data.groupby(['internetservice', 'gender']).size().unstack()\n",
    "\n",
    "# Crear un gráfico de barras\n",
    "internet_df.plot(kind='bar', stacked=False)\n",
    "\n",
    "# Agregar etiquetas y título\n",
    "plt.xlabel('Internet Service')\n",
    "plt.ylabel('Count')\n",
    "plt.title('Distribution of Internet Service by Gender')\n",
    "\n",
    "# Mostrar el gráfico\n",
    "plt.show()"
   ]
  },
  {
   "cell_type": "markdown",
   "id": "ad125307",
   "metadata": {},
   "source": [
    "El internet más popular, no está muy diferenciado según el género. Ambos servicios se comportan bastante parecidos. Solamente gana levemente la popularidad de la Fibra ótica entre las mujeres."
   ]
  },
  {
   "cell_type": "code",
   "execution_count": 49,
   "id": "7f42a4bb",
   "metadata": {},
   "outputs": [
    {
     "data": {
      "image/png": "[encoded data removed]",
      "text/plain": [
       "<Figure size 432x288 with 1 Axes>"
      ]
     },
     "metadata": {
      "needs_background": "light"
     },
     "output_type": "display_data"
    }
   ],
   "source": [
    "internet_data = final_data.groupby(['internetservice', 'seniorcitizen']).size().unstack()\n",
    "\n",
    "# Crear un gráfico de barras\n",
    "internet_data.plot(kind='bar', stacked=False)\n",
    "\n",
    "# Agregar etiquetas y título\n",
    "plt.xlabel('Internet Service')\n",
    "plt.ylabel('Count')\n",
    "plt.title('Distribution of Internet Service by Senior Citizen')\n",
    "\n",
    "# Mostrar el gráfico\n",
    "plt.show()"
   ]
  },
  {
   "cell_type": "markdown",
   "id": "d34339a0",
   "metadata": {},
   "source": [
    "En esta comparación, pasa algo curioso. Los Senior Citizen, contrataron más Fibra Optica que DSL. En cambio, los más jóvenes, contratan tanto DSL como Firba Optica."
   ]
  },
  {
   "cell_type": "code",
   "execution_count": 50,
   "id": "78c27c5a",
   "metadata": {},
   "outputs": [
    {
     "data": {
      "image/png": "[encoded data removed]",
      "text/plain": [
       "<Figure size 432x288 with 1 Axes>"
      ]
     },
     "metadata": {
      "needs_background": "light"
     },
     "output_type": "display_data"
    }
   ],
   "source": [
    "internet_churn = final_data.groupby(['internetservice', 'churn']).size().unstack()\n",
    "\n",
    "# Crear un gráfico de barras\n",
    "internet_df.plot(kind='bar', stacked=False)\n",
    "\n",
    "# Agregar etiquetas y título\n",
    "plt.xlabel('Internet Service')\n",
    "plt.ylabel('Count')\n",
    "plt.title('Distribution of Internet Service by Churn')\n",
    "\n",
    "# Mostrar el gráfico\n",
    "plt.show()"
   ]
  },
  {
   "cell_type": "markdown",
   "id": "f41a01bc",
   "metadata": {},
   "source": [
    "Los que más se han dado de baja el servicio en Internet, son aquellos que tenían Fibra Óptica. Aún así, hay una alta cantidad que tenía DSL y otros que no tenían el servicio."
   ]
  },
  {
   "cell_type": "markdown",
   "id": "ec6d9969",
   "metadata": {},
   "source": [
    "#### Método de pago más popular"
   ]
  },
  {
   "cell_type": "code",
   "execution_count": 51,
   "id": "6b547f10",
   "metadata": {},
   "outputs": [
    {
     "data": {
      "image/png": "[encoded data removed]",
      "text/plain": [
       "<Figure size 432x288 with 1 Axes>"
      ]
     },
     "metadata": {
      "needs_background": "light"
     },
     "output_type": "display_data"
    }
   ],
   "source": [
    "final_data['paymentmethod'].hist()\n",
    "\n",
    "plt.xticks(rotation=45)\n",
    "plt.title('Payment Method')\n",
    "plt.show()"
   ]
  },
  {
   "cell_type": "markdown",
   "id": "955f17d5",
   "metadata": {},
   "source": [
    "El método de pago que más sobresale, es el del cheque electrónico. Los otros tres están bastante parejos."
   ]
  },
  {
   "cell_type": "code",
   "execution_count": 52,
   "id": "1abe6ca8",
   "metadata": {},
   "outputs": [
    {
     "data": {
      "image/png": "[encoded data removed]",
      "text/plain": [
       "<Figure size 432x288 with 1 Axes>"
      ]
     },
     "metadata": {
      "needs_background": "light"
     },
     "output_type": "display_data"
    }
   ],
   "source": [
    "paymethod_df = final_data.groupby(['paymentmethod', 'gender']).size().unstack()\n",
    "\n",
    "# Gráfico de barras\n",
    "paymethod_df.plot(kind='bar', stacked=False)\n",
    "\n",
    "#etiquetas y título\n",
    "plt.xlabel('Payment Method')\n",
    "plt.ylabel('Count')\n",
    "plt.title('Distribution of Payment Method by Gender')\n",
    "plt.xticks(rotation=45)\n",
    "\n",
    "plt.show()"
   ]
  },
  {
   "cell_type": "markdown",
   "id": "4732dc4e",
   "metadata": {},
   "source": [
    "Ambos géneros sobresaltan en la preferencia de pagar con el cheque electrónico."
   ]
  },
  {
   "cell_type": "code",
   "execution_count": 53,
   "id": "47464b39",
   "metadata": {},
   "outputs": [
    {
     "data": {
      "image/png": "[encoded data removed]",
      "text/plain": [
       "<Figure size 432x288 with 1 Axes>"
      ]
     },
     "metadata": {
      "needs_background": "light"
     },
     "output_type": "display_data"
    }
   ],
   "source": [
    "paymethod_data = final_data.groupby(['paymentmethod', 'seniorcitizen']).size().unstack()\n",
    "\n",
    "# Gráfico de barras\n",
    "paymethod_data.plot(kind='bar', stacked=False)\n",
    "\n",
    "# Agregar etiquetas y título\n",
    "plt.xlabel('Internet Service')\n",
    "plt.ylabel('Count')\n",
    "plt.title('Distribution of Internet Service by Senior Citizen')\n",
    "plt.xticks(rotation=45)\n",
    "\n",
    "plt.show()"
   ]
  },
  {
   "cell_type": "markdown",
   "id": "ded44346",
   "metadata": {},
   "source": [
    "Curiosamente, los ciudadanos senior, prefieren pagar con cheque electrónico, al igual que los ciudadanos más jóvenes. En estos últimos, sorprendentemente, prefieren enviar un cheque a cancelar con tarjeta de crédigo o Transferencia automática. Será porque podrían tener mejor supervisión de sus gastos? (No es que sea bajo el método de pago de transferencia automática o cargo a la tarjeta de crédito)."
   ]
  },
  {
   "cell_type": "code",
   "execution_count": 54,
   "id": "801d3014",
   "metadata": {},
   "outputs": [
    {
     "data": {
      "image/png": "[encoded data removed]",
      "text/plain": [
       "<Figure size 432x288 with 1 Axes>"
      ]
     },
     "metadata": {
      "needs_background": "light"
     },
     "output_type": "display_data"
    }
   ],
   "source": [
    "paymethod_churn = final_data.groupby(['paymentmethod', 'churn']).size().unstack()\n",
    "\n",
    "# Gráfico de barras\n",
    "paymethod_churn.plot(kind='bar', stacked=False)\n",
    "\n",
    "#etiquetas y título\n",
    "plt.xlabel('Payment Method')\n",
    "plt.ylabel('Count')\n",
    "plt.title('Distribution of Payment Method by Churn')\n",
    "plt.xticks(rotation=45)\n",
    "\n",
    "plt.show()"
   ]
  },
  {
   "cell_type": "markdown",
   "id": "9cfe026b",
   "metadata": {},
   "source": [
    "Los clientes que pagaban con Cheque Electrónico son los que más dieron de bajar el servicio. Cheque por correo es seguido de cerca por Tarjeta de Crédito y Transferencia bancaria."
   ]
  },
  {
   "cell_type": "markdown",
   "id": "75ab8fa6",
   "metadata": {},
   "source": [
    "#### Cargo mensual o total por edad"
   ]
  },
  {
   "cell_type": "code",
   "execution_count": 55,
   "id": "5c9dd29a",
   "metadata": {},
   "outputs": [
    {
     "data": {
      "image/png": "[encoded data removed]",
      "text/plain": [
       "<Figure size 432x288 with 1 Axes>"
      ]
     },
     "metadata": {
      "needs_background": "light"
     },
     "output_type": "display_data"
    }
   ],
   "source": [
    "plt.boxplot([final_data[final_data['seniorcitizen'] == 0]['monthlycharges'], \n",
    "             final_data[final_data['seniorcitizen'] == 1]['monthlycharges']],\n",
    "            labels=['Not Senior', 'Senior'])\n",
    "\n",
    "# Agregar etiquetas al eje x y al eje y\n",
    "plt.xlabel('Senior Citizen')\n",
    "plt.ylabel('Monthly Charges')\n",
    "\n",
    "# Agregar un título al gráfico\n",
    "plt.title('Boxplot of Monthly Charges by Senior Citizen')\n",
    "\n",
    "# Mostrar el gráfico\n",
    "plt.show()"
   ]
  },
  {
   "cell_type": "markdown",
   "id": "829cde60",
   "metadata": {},
   "source": [
    "En el pago mensual, observamos que los Senior, en promedio pagan más que los no senior. De todas formas, el promedio está más centrado en senior que en los no senior. También observamos valores atípicos en los Senior."
   ]
  },
  {
   "cell_type": "code",
   "execution_count": 56,
   "id": "a3bc51c2",
   "metadata": {},
   "outputs": [
    {
     "data": {
      "image/png": "[encoded data removed]",
      "text/plain": [
       "<Figure size 432x288 with 1 Axes>"
      ]
     },
     "metadata": {
      "needs_background": "light"
     },
     "output_type": "display_data"
    }
   ],
   "source": [
    "# totalcharges\n",
    "\n",
    "plt.boxplot([final_data[final_data['seniorcitizen'] == 0]['totalcharges'], \n",
    "             final_data[final_data['seniorcitizen'] == 1]['totalcharges']],\n",
    "            labels=['Not Senior', 'Senior'])\n",
    "\n",
    "# Agregar etiquetas al eje x y al eje y\n",
    "plt.xlabel('Senior Citizen')\n",
    "plt.ylabel('Total Charges')\n",
    "\n",
    "# Agregar un título al gráfico\n",
    "plt.title('Boxplot of Total Charges by Senior Citizen')\n",
    "\n",
    "# Mostrar el gráfico\n",
    "plt.show()"
   ]
  },
  {
   "cell_type": "markdown",
   "id": "76c9b4e5",
   "metadata": {},
   "source": [
    "En el pago total, los Senior también pagan más en promedio. "
   ]
  },
  {
   "cell_type": "markdown",
   "id": "155b2d2c",
   "metadata": {},
   "source": [
    "## Conclusión del análisis"
   ]
  },
  {
   "cell_type": "markdown",
   "id": "00e5ca00",
   "metadata": {},
   "source": [
    "Logramos obtener la información requerida para poder responder nuestras preguntas:\n",
    "\n",
    "1. Cuál es la cantidad que se ha quedado y cancelado?\n",
    "\n",
    "    **Respuesta: Cerca de 2000 personas han cancelado el servicio. Y cerca de 5000 se han quedado.**\n",
    "    \n",
    "2. Cuál es el método de pago más popular?\n",
    "\n",
    "    **Respuesta: El método de pago más popular es el Cheque Electrónico.**\n",
    "    \n",
    "3. Habrá diferencia de popularidad de método de pago entre distintas edades y géneros?\n",
    "\n",
    "    **Respuesta: Entre género no hay gran resalto de diferencia en popularidad de método de pago. Ambos géneros prefieren el Cheque Electrónico. Al igual que entre las edades, el senior citizen, como los jóvenes, prefieren el cheque electrónico.** \n",
    "    \n",
    "4. Cuál es el servicio de internet más popular?\n",
    "\n",
    "    **Respuesta: La fibra óptica es la más popular.**\n",
    "    \n",
    "    4a. Hay diferencia de servicio de internet entre distintas edades o generos?\n",
    "    \n",
    "    **Respuesta: Tanto los jóvenes, como el senior citizen prefieren la fibra óptica. Y en géneros, también prefieren la fibra óptica.**\n",
    "    \n",
    "    4b. Si la hay, cuál es la diferencia entre el cargo mensual o total entre distintas edades?\n",
    "    \n",
    "    **Respuesta: Tanto en el cargo mensual, como total, el senior citizen está pagando por el/los servicio/s que los jóvenes.**\n",
    "    \n",
    "Hipotesis: Podría ser que los clientes que se hayan ido, podrían haber encontrado una opción más barata o una mejor opción, en sentido, de que ofrecen más servicios por el mismo valor. U ofrecen el mismo servicio, pero por menor valor.    "
   ]
  },
  {
   "cell_type": "markdown",
   "id": "8aca857d",
   "metadata": {},
   "source": [
    "# MODELOS"
   ]
  },
  {
   "cell_type": "markdown",
   "id": "3eae13b5",
   "metadata": {},
   "source": [
    "Ahora podemos pasar a la siguiente etapa. Crear nuestros modelos. Estos serán:\n",
    "\n",
    "- Logistic Regression\n",
    "- DecisionTreeClassifier\n",
    "- RandomForestClassifier\n",
    "- CatBoost Classifier\n",
    "- LGBM Classifier\n",
    "- KNeighbors Classifier\n",
    "\n",
    "Observaremos cuál es el mejor modelo junto a su 'feature_importances' en los conjuntos de testeo y prueba. Y posteriormente lo aplicaremos al conjunto de validación."
   ]
  },
  {
   "cell_type": "code",
   "execution_count": 57,
   "id": "621af222",
   "metadata": {},
   "outputs": [],
   "source": [
    "#Primero Definamos las características numéricas y categóricas\n",
    "numeric_features = ['monthlycharges', 'totalcharges', 'days']\n",
    "categorical_features = ['type', 'paperlessbilling', 'paymentmethod', 'gender', 'seniorcitizen', 'partner', 'dependents',\n",
    "                        'internetservice', 'onlinesecurity', 'onlinebackup', 'deviceprotection', 'techsupport',\n",
    "                        'streamingtv', 'streamingmovies', 'multiplelines']"
   ]
  },
  {
   "cell_type": "code",
   "execution_count": 58,
   "id": "3bf4132f",
   "metadata": {},
   "outputs": [],
   "source": [
    "#Creamos nuestros feature (X) y target (y)\n",
    "X = final_data.drop(columns=['customerid', 'churn'])\n",
    "y = final_data['churn']"
   ]
  },
  {
   "cell_type": "code",
   "execution_count": 59,
   "id": "98fb853a",
   "metadata": {},
   "outputs": [],
   "source": [
    "#Dividimos los datos en conjuntos de entrenamiento (70%), prueba (15%) y validación (15%)\n",
    "X_train, X_test, y_train, y_test = train_test_split(X, y, test_size=0.30, random_state=12345)\n",
    "X_test, X_valid, y_test, y_valid = train_test_split(X_test, y_test, test_size=0.50, random_state=1234)"
   ]
  },
  {
   "cell_type": "code",
   "execution_count": 60,
   "id": "f2223478",
   "metadata": {},
   "outputs": [],
   "source": [
    "#Definamos los transformers para características numércias y categóricas\n",
    "numeric_transformer = Pipeline(steps=[\n",
    "    ('scaler', StandardScaler())\n",
    "])\n",
    "\n",
    "categorical_transformer = Pipeline(steps=[\n",
    "    ('onehot', OneHotEncoder(drop='first', sparse=False))\n",
    "])"
   ]
  },
  {
   "cell_type": "code",
   "execution_count": 61,
   "id": "c24c2314",
   "metadata": {},
   "outputs": [],
   "source": [
    "#Combinamos los transformers en una ColumnTransformer\n",
    "preprocessor = ColumnTransformer(\n",
    "    transformers = [\n",
    "        ('num', numeric_transformer, numeric_features),\n",
    "        ('cat', categorical_transformer, categorical_features)\n",
    "    ])"
   ]
  },
  {
   "cell_type": "code",
   "execution_count": 62,
   "id": "b0fffb53",
   "metadata": {},
   "outputs": [],
   "source": [
    "#Aplicamos el preprocesamiento a los datos\n",
    "X_train_preprocessed = preprocessor.fit_transform(X_train)\n",
    "X_test_preprocessed = preprocessor.transform(X_test)\n",
    "X_valid_preprocessed = preprocessor.transform(X_valid)"
   ]
  },
  {
   "cell_type": "code",
   "execution_count": 63,
   "id": "13098439",
   "metadata": {
    "scrolled": true
   },
   "outputs": [
    {
     "name": "stdout",
     "output_type": "stream",
     "text": [
      "Training Logistic Regression...\n",
      "Logistic Regression ROC-AUC: 0.7116221488595438\n",
      "\n",
      "Training Decision Tree Classifier...\n",
      "Decision Tree Classifier ROC-AUC: 0.7149609843937574\n",
      "\n",
      "Training Random Forest Classifier...\n",
      "Random Forest Classifier ROC-AUC: 0.7190876350540216\n",
      "\n",
      "Training CatBoost Classifier...\n",
      "CatBoost Classifier ROC-AUC: 0.7635804321728691\n",
      "\n",
      "Training LGBM Classifier...\n",
      "LGBM Classifier ROC-AUC: 0.7635054021608644\n",
      "\n",
      "Training KNeighbors Classifier...\n",
      "KNeighbors Classifier ROC-AUC: 0.7127100840336135\n",
      "\n"
     ]
    }
   ],
   "source": [
    "# Definamos una función para entrenar y evaluar modelos con GridSearchCV\n",
    "def train_and_evaluate_model(model, param_grid, X_train, y_train, X_test, y_test):\n",
    "    grid_search = GridSearchCV(estimator=model, param_grid=param_grid, scoring='roc_auc', cv=5)\n",
    "    grid_search.fit(X_train, y_train)\n",
    "    best_model = grid_search.best_estimator_\n",
    "    y_pred = best_model.predict(X_test)\n",
    "    roc_auc = roc_auc_score(y_test, y_pred)\n",
    "    feature_importances = None\n",
    "\n",
    "    if hasattr(best_model, 'feature_importances_'):\n",
    "        feature_importances = best_model.feature_importances_\n",
    "\n",
    "    return best_model, roc_auc, feature_importances\n",
    "\n",
    "# Entrenamos y evaluamos los seis modelos con GridSearchCV\n",
    "models_to_train = [\n",
    "    ('Logistic Regression', LogisticRegression(solver='liblinear')),\n",
    "    ('Decision Tree Classifier', DecisionTreeClassifier()),\n",
    "    ('Random Forest Classifier', RandomForestClassifier()),\n",
    "    ('CatBoost Classifier', CatBoostClassifier(verbose=0)),\n",
    "    ('LGBM Classifier', LGBMClassifier()),\n",
    "    ('KNeighbors Classifier', KNeighborsClassifier())\n",
    "]\n",
    "\n",
    "#Parámetros para algunos modelos\n",
    "param_grid_logistic = {\n",
    "    'C': [0.001, 0.01, 0.1, 1, 10],\n",
    "    'penalty': ['l1', 'l2']\n",
    "}\n",
    "\n",
    "param_grid_decision_tree = {\n",
    "    'criterion': ['gini', 'entropy'],\n",
    "    'max_depth': [None, 10, 20, 30, 40],\n",
    "    'min_samples_split': [2, 5, 10],\n",
    "    'min_samples_leaf': [1, 2, 4]\n",
    "}\n",
    "\n",
    "param_grid_random_forest = {\n",
    "    'n_estimators': [100, 200, 300],\n",
    "    'criterion': ['gini', 'entropy'],\n",
    "    'max_depth': [None, 10, 20, 30, 40],\n",
    "    'min_samples_split': [2, 5, 10],\n",
    "    'min_samples_leaf': [1, 2, 4]\n",
    "}\n",
    "\n",
    "param_grid_kneighbors = {\n",
    "    'n_neighbors': [3, 5, 7, 9],\n",
    "    'weights': ['uniform', 'distance'],\n",
    "    'metric': ['euclidean', 'manhattan']\n",
    "}\n",
    "\n",
    "\n",
    "results = []\n",
    "\n",
    "for model_name, model in models_to_train:\n",
    "    print(f\"Training {model_name}...\")\n",
    "    \n",
    "    if model_name == 'Logistic Regression':\n",
    "        param_grid = param_grid_logistic\n",
    "    \n",
    "    elif model_name == 'Decision Tree Classifier':\n",
    "        param_grid = param_grid_decision_tree\n",
    "    \n",
    "    elif model_name == 'Random Forest Classifier':\n",
    "        param_grid = param_grid_random_forest\n",
    "    elif model_name == 'KNeighbors Classifier':\n",
    "        param_grid = param_grid_kneighbors\n",
    "\n",
    "    elif model_name == 'CatBoost Classifier':\n",
    "        param_grid = {\n",
    "            'iterations': [100, 200],\n",
    "            'learning_rate': [0.05, 0.1]\n",
    "        }\n",
    "    elif model_name == 'LGBM Classifier':\n",
    "        param_grid = {\n",
    "            'n_estimators': [100, 200],\n",
    "            'learning_rate': [0.05, 0.1]\n",
    "        }\n",
    "    else:\n",
    "        param_grid = {}\n",
    "\n",
    "    best_model, roc_auc, feature_importances = train_and_evaluate_model(model, param_grid, X_train_preprocessed, y_train, X_test_preprocessed, y_test)\n",
    "    results.append((model_name, best_model, roc_auc, feature_importances))\n",
    "    print(f\"{model_name} ROC-AUC: {roc_auc}\")\n",
    "    print()\n"
   ]
  },
  {
   "cell_type": "code",
   "execution_count": 64,
   "id": "b05c24a9",
   "metadata": {},
   "outputs": [
    {
     "name": "stdout",
     "output_type": "stream",
     "text": [
      "                      Model   ROC-AUC Most Important Feature  Importance Value\n",
      "0       Logistic Regression  0.711622                   None          0.000000\n",
      "1  Decision Tree Classifier  0.714961          paymentmethod          0.258075\n",
      "2  Random Forest Classifier  0.719088          paymentmethod          0.230033\n",
      "3       CatBoost Classifier  0.763580          paymentmethod         45.314829\n",
      "4           LGBM Classifier  0.763505          paymentmethod       1930.000000\n",
      "5     KNeighbors Classifier  0.712710                   None          0.000000\n"
     ]
    },
    {
     "data": {
      "image/png": "[encoded data removed]",
      "text/plain": [
       "<Figure size 864x432 with 1 Axes>"
      ]
     },
     "metadata": {
      "needs_background": "light"
     },
     "output_type": "display_data"
    }
   ],
   "source": [
    "# Creamos una lista para almacenar los resultados\n",
    "model_results = []\n",
    "\n",
    "for model_name, best_model, roc_auc, feature_importances in results:\n",
    "    most_important_feature = None\n",
    "    max_importance = 0\n",
    "\n",
    "    if feature_importances is not None:\n",
    "        for i, importance in enumerate(feature_importances):\n",
    "            if importance > max_importance:\n",
    "                max_importance = importance\n",
    "                most_important_feature = X.columns[i]\n",
    "\n",
    "    model_results.append([model_name, roc_auc, most_important_feature, max_importance])\n",
    "\n",
    "# Creamos un DataFrame a partir de los resultados\n",
    "summary_df = pd.DataFrame(model_results, columns=['Model', 'ROC-AUC', 'Most Important Feature', 'Importance Value'])\n",
    "\n",
    "# Mostramos el DataFrame\n",
    "print(summary_df)\n",
    "\n",
    "# Creamos un gráfico de barras para mostrar la característica más importante\n",
    "plt.figure(figsize=(12, 6))\n",
    "plt.bar(summary_df['Model'], summary_df['Importance Value'])\n",
    "plt.xlabel('Model')\n",
    "plt.ylabel('Importance Value')\n",
    "plt.title('Most Important Feature by Model')\n",
    "plt.xticks(rotation=45, ha=\"right\")\n",
    "plt.tight_layout()\n",
    "plt.show()"
   ]
  },
  {
   "cell_type": "markdown",
   "id": "32b24634",
   "metadata": {},
   "source": [
    "De nuestros modelos, observamos lo siquiente:\n",
    "\n",
    "- En overall, el modelo `Logistic Regression`, obtuvo el mejor valor 'ROC-AUC', sin features más importantes. Seuigo por El modelo `KNeighbors Classifier`\n",
    "- El modelo `Random Forest Classifier` obtuvo un 'ROC-AUC' de 0.6652 con un feature más importante de 0.22 que es la columna `paymentmethod`. Los modelos `Decision Tree Classifier`, `CatBoost Classifier` y `LGBM Classifier` también contienen la columna `paymentmethod`como la featurea más importante, solo que en `LGBM Classifier`, esta es muy importante."
   ]
  },
  {
   "cell_type": "markdown",
   "id": "fbbb48c7",
   "metadata": {},
   "source": [
    "Veamos nuestro mejor modelo:"
   ]
  },
  {
   "cell_type": "code",
   "execution_count": 65,
   "id": "1f756a2d",
   "metadata": {},
   "outputs": [
    {
     "data": {
      "text/plain": [
       "KNeighborsClassifier(metric='manhattan', n_neighbors=9)"
      ]
     },
     "execution_count": 65,
     "metadata": {},
     "output_type": "execute_result"
    }
   ],
   "source": [
    "best_model"
   ]
  },
  {
   "cell_type": "markdown",
   "id": "861afb78",
   "metadata": {},
   "source": [
    "Nuestro mejor modelo es el `KNeighborsClassifier` con la metrica 'manhattan' y con 9 vecinos. Apliquemos nuestro mejor modelo al conjunto de validación"
   ]
  },
  {
   "cell_type": "code",
   "execution_count": 66,
   "id": "cd5bf5c6",
   "metadata": {},
   "outputs": [
    {
     "name": "stdout",
     "output_type": "stream",
     "text": [
      "ROC-AUC on Validation Set: 0.6986754966887416\n",
      "\n",
      "El modelo seleccionado no tiene \"feature importances\".\n"
     ]
    }
   ],
   "source": [
    "# Aplicamos el mejor modelo al conjunto de validación\n",
    "X_valid_preprocessed = preprocessor.transform(X_valid)\n",
    "y_valid_pred = best_model.predict(X_valid_preprocessed)\n",
    "roc_auc_valid = roc_auc_score(y_valid, y_valid_pred)\n",
    "print(f\"ROC-AUC on Validation Set: {roc_auc_valid}\")\n",
    "\n",
    "# Obtenemos las importancias de las características del mejor modelo en el conjunto de validación\n",
    "if hasattr(best_model, 'feature_importances_'):\n",
    "    feature_importances_val = best_model.feature_importances_\n",
    "    print(\"\\nFeature Importances in Validation Set:\")\n",
    "    for i, importance in enumerate(feature_importances_val):\n",
    "        print(f\"Feature {i}: {importance}\")\n",
    "\n",
    "    # Creamos un gráfico de barras para mostrar las importancias de características en el conjunto de validación\n",
    "    plt.figure(figsize=(12, 6))\n",
    "    plt.bar(X.columns, feature_importances_val)\n",
    "    plt.xlabel('Features')\n",
    "    plt.ylabel('Importance Value')\n",
    "    plt.title('Feature Importances in Validation Set')\n",
    "    plt.xticks(rotation=45, ha=\"right\")\n",
    "    plt.tight_layout()\n",
    "    plt.show()\n",
    "else:\n",
    "    print('\\nEl modelo seleccionado no tiene \"feature importances\".')"
   ]
  },
  {
   "cell_type": "markdown",
   "id": "6d1e6e68",
   "metadata": {},
   "source": [
    "Observamos que nuestro mejor modelo, el `KNeighborsClassifier` obtiene un 'ROC-AUC' levemente menor que en conjunto de entrenamiento y prueba, y a su vez, tampoco tiene features importantes."
   ]
  },
  {
   "cell_type": "markdown",
   "id": "80cb357a",
   "metadata": {},
   "source": [
    "## Conclusión de los modelos ML y comparando las preguntas anteriores"
   ]
  },
  {
   "cell_type": "markdown",
   "id": "7e3d486f",
   "metadata": {},
   "source": [
    "Según lo mostrado por los modelos y la posible hipótesis. Podríamos decir que la pérdida de clientes, al parecer no es que los servicios ofrecidos por Interconnect sean caros. Sino que es por el método de pago que ofrecen. Ya que en 4 de kis 6 modelos, la feature más importante es la columna `paymentmethod`. O sea, es un indício en dónde la empresa Interconnect debe atacar para que no haya tanta clientela que cancela su suscripción de servicios."
   ]
  },
  {
   "cell_type": "markdown",
   "id": "d0512086",
   "metadata": {},
   "source": [
    "# Conclusión"
   ]
  },
  {
   "cell_type": "markdown",
   "id": "87ebd2a6",
   "metadata": {},
   "source": [
    "- Realizamos la parte de la introducción al proyecto, con una pequeña reseña de la empresa Interconnect y sus productos ofrecidos. Después el objetivo de este proyecto y una pequeña descripción de los datos.\n",
    "- Cargamos los datos (4 datasets) y los empezamos a analizar si hubo información faltante o tipos de datos erróneos.\n",
    "- Nos encontramos con tipos de datos erróneos, los cuales se fueron cambiando una vez fusionado los 4 datasets en uno solo.\n",
    "- Se efectuó una exploración de datos, pudiendo responder las consultas hechas antes de empezar esta exploración.\n",
    "- Pudimos realizar todos los pasos según el plan de trabajo.\n",
    "- No se encontró mayor dificultad para resolver las dudas según el plan de trabajo.\n",
    "- El paso clave, para poder resolver la tarea, fue resolverlo con los modelos de Machine Learning, para saber cuál es el mejor modelo y cuál es el `feature` más importante dónde debe atacar la compañía.\n",
    "\n",
    "\n",
    "Según el procedimiento con nuestros 6 modelos de Machine Learning, el que obtuvo mejor puntuación, fue el modelo `KNeighborsClassifier`con un `ROC-AUC: 0.6986` en el conjunto de validación."
   ]
  },
  {
   "cell_type": "markdown",
   "id": "2ad8be07",
   "metadata": {},
   "source": [
    "# Recomendación "
   ]
  },
  {
   "cell_type": "markdown",
   "id": "1edc446a",
   "metadata": {},
   "source": [
    "Como recomendación para la empresa Interconnect, podría ocupar el modelo de `KNeighborsClassifier` para predecir si un cliente cancelaría o no su/s producto/s, y a su vez, atacar el método de pago para poder retener mayor clientela. Ya que, según lo analizado, la fuga de clientes no se debe por la edad, ni por género. Sino que por el método de pago vía cheque electrónico. El cual fue el `feature importances` que más destacó en 4 de 6 modelos de Machine Learning. A lo mejor, podrían dar mejores opciones a clientes que quieran pagar por ese medio."
   ]
  }
 ],
 "metadata": {
  "kernelspec": {
   "display_name": "Python 3 (ipykernel)",
   "language": "python",
   "name": "python3"
  },
  "language_info": {
   "codemirror_mode": {
    "name": "ipython",
    "version": 3
   },
   "file_extension": ".py",
   "mimetype": "text/x-python",
   "name": "python",
   "nbconvert_exporter": "python",
   "pygments_lexer": "ipython3",
   "version": "3.11.3"
  },
  "toc": {
   "base_numbering": 1,
   "nav_menu": {},
   "number_sections": true,
   "sideBar": true,
   "skip_h1_title": true,
   "title_cell": "Table of Contents",
   "title_sidebar": "Contents",
   "toc_cell": false,
   "toc_position": {
    "height": "calc(100% - 180px)",
    "left": "10px",
    "top": "150px",
    "width": "197.6px"
   },
   "toc_section_display": true,
   "toc_window_display": false
  }
 },
 "nbformat": 4,
 "nbformat_minor": 5
}
